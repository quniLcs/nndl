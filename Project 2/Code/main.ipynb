{
 "cells": [
  {
   "cell_type": "markdown",
   "id": "96b5b95c",
   "metadata": {},
   "source": [
    "# 准备工作\n",
    "\n",
    "## 导入模块"
   ]
  },
  {
   "cell_type": "code",
   "execution_count": 1,
   "outputs": [],
   "source": [
    "import os.path\n",
    "import torch\n",
    "import matplotlib.pyplot as plt"
   ],
   "metadata": {
    "collapsed": false,
    "pycharm": {
     "name": "#%%\n"
    }
   }
  },
  {
   "cell_type": "code",
   "execution_count": 2,
   "id": "bc03830d",
   "metadata": {},
   "outputs": [],
   "source": [
    "from nn import *\n",
    "from vgg import VGG, VGG_BN\n",
    "from load import load\n",
    "from util import set_random_seeds, get_num_parameters, train, train_plus, loss_landscape"
   ]
  },
  {
   "cell_type": "markdown",
   "id": "4bde3ad1",
   "metadata": {},
   "source": [
    "## 载入数据"
   ]
  },
  {
   "cell_type": "code",
   "execution_count": null,
   "outputs": [],
   "source": [
    "device = torch.device('cuda:0' if torch.cuda.is_available() else 'cpu')\n",
    "set_random_seeds(seed = 0, device = device)\n",
    "\n",
    "train_loader = load(train = True)\n",
    "test_loader = load(train = False)"
   ],
   "metadata": {
    "collapsed": false,
    "pycharm": {
     "name": "#%%\n",
     "is_executing": true
    }
   }
  },
  {
   "cell_type": "markdown",
   "id": "26aafe5b",
   "metadata": {},
   "source": [
    "# 神经网络\n",
    "\n",
    "## 初始架构"
   ]
  },
  {
   "cell_type": "code",
   "execution_count": 4,
   "id": "e8310760",
   "metadata": {},
   "outputs": [
    {
     "name": "stdout",
     "output_type": "stream",
     "text": [
      "Epoch:  1\tTrain Error: 0.46426\tTest Error: 0.46610\n",
      "Epoch:  2\tTrain Error: 0.39284\tTest Error: 0.40720\n",
      "Epoch:  3\tTrain Error: 0.34746\tTest Error: 0.37080\n",
      "Epoch:  4\tTrain Error: 0.30776\tTest Error: 0.34930\n",
      "Epoch:  5\tTrain Error: 0.29376\tTest Error: 0.35000\n",
      "Epoch:  6\tTrain Error: 0.26306\tTest Error: 0.33230\n",
      "Epoch:  7\tTrain Error: 0.22036\tTest Error: 0.30660\n",
      "Epoch:  8\tTrain Error: 0.20134\tTest Error: 0.30160\n",
      "Epoch:  9\tTrain Error: 0.19084\tTest Error: 0.30770\n",
      "Epoch: 10\tTrain Error: 0.16584\tTest Error: 0.30770\n",
      "Epoch: 11\tTrain Error: 0.15242\tTest Error: 0.30270\n",
      "Epoch: 12\tTrain Error: 0.13310\tTest Error: 0.30720\n",
      "Epoch: 13\tTrain Error: 0.12722\tTest Error: 0.31080\n",
      "Epoch: 14\tTrain Error: 0.10172\tTest Error: 0.30940\n",
      "Epoch: 15\tTrain Error: 0.09734\tTest Error: 0.30760\n",
      "Epoch: 16\tTrain Error: 0.09870\tTest Error: 0.31590\n",
      "Epoch: 17\tTrain Error: 0.06678\tTest Error: 0.31460\n",
      "Epoch: 18\tTrain Error: 0.05868\tTest Error: 0.31480\n",
      "Epoch: 19\tTrain Error: 0.05860\tTest Error: 0.32420\n",
      "Epoch: 20\tTrain Error: 0.06242\tTest Error: 0.32970\n"
     ]
    }
   ],
   "source": [
    "model = NN()\n",
    "optimizer = torch.optim.Adam(model.parameters(), lr = 0.001)\n",
    "criterion = nn.CrossEntropyLoss()\n",
    "\n",
    "root = '../Result/NN original 0.001'\n",
    "best_model_file = os.path.join(root, 'model.pt')\n",
    "losses_file = os.path.join(root, 'losses.pt')\n",
    "train_errors_file = os.path.join(root, 'train_errors.pt')\n",
    "test_errors_file = os.path.join(root, 'test_errors.pt')\n",
    "\n",
    "_, train_errors_original, test_errors_original = \\\n",
    "    train(model, optimizer, criterion, train_loader, test_loader, device = device, \n",
    "          wrap_tqdms = False, print_errors = True,\n",
    "          best_model_file = best_model_file, losses_file = losses_file,\n",
    "          train_errors_file = train_errors_file, test_errors_file = test_errors_file)"
   ]
  },
  {
   "cell_type": "code",
   "execution_count": 13,
   "id": "86e0ae15",
   "metadata": {},
   "outputs": [
    {
     "name": "stdout",
     "output_type": "stream",
     "text": [
      "Number of parameters: 285162\n"
     ]
    }
   ],
   "source": [
    "print(\"Number of parameters:\", get_num_parameters(model))"
   ]
  },
  {
   "cell_type": "code",
   "execution_count": 4,
   "id": "a375f18f",
   "metadata": {},
   "outputs": [],
   "source": [
    "root = '../Result/NN original'\n",
    "losses_file = os.path.join(root, 'losses.pt')\n",
    "train_errors_file = os.path.join(root, 'train_errors.pt')\n",
    "test_errors_file = os.path.join(root, 'test_errors.pt')\n",
    "\n",
    "losses_original = torch.load(losses_file)\n",
    "train_errors_original = torch.load(train_errors_file)\n",
    "test_errors_original = torch.load(test_errors_file)"
   ]
  },
  {
   "cell_type": "code",
   "execution_count": 65,
   "id": "9d385545",
   "metadata": {},
   "outputs": [
    {
     "data": {
      "image/png": "[encoded data removed]",
      "text/plain": [
       "<Figure size 432x288 with 1 Axes>"
      ]
     },
     "metadata": {
      "needs_background": "light"
     },
     "output_type": "display_data"
    }
   ],
   "source": [
    "plt.plot(train_errors_original, '-+')\n",
    "plt.plot(test_errors_original, '-+')\n",
    "plt.xticks(range(0, 21, 2))\n",
    "plt.legend(['train', 'test'])\n",
    "plt.xlabel('epoch')\n",
    "plt.ylabel('error')\n",
    "plt.title('error on training and testing set')\n",
    "\n",
    "fig_file = os.path.join(root, 'figure.png')\n",
    "plt.savefig(fig_file)\n",
    "\n",
    "plt.show()"
   ]
  },
  {
   "cell_type": "code",
   "execution_count": null,
   "id": "1ebddfd3",
   "metadata": {
    "pycharm": {
     "name": "#%%\n"
    }
   },
   "outputs": [],
   "source": [
    "lr = [1e-3, 2e-3, 1e-4, 5e-4]\n",
    "losses_original = [losses_original, [], [], []]\n",
    "for ind in range(1, 4):\n",
    "    model = NN()\n",
    "    optimizer = torch.optim.Adam(model.parameters(), lr = lr[ind])\n",
    "    criterion = nn.CrossEntropyLoss()\n",
    "\n",
    "    root = '../Result/NN original ' + str(lr[ind])\n",
    "    best_model_file = os.path.join(root, 'model.pt')\n",
    "    losses_file = os.path.join(root, 'losses.pt')\n",
    "    train_errors_file = os.path.join(root, 'train_errors.pt')\n",
    "    test_errors_file = os.path.join(root, 'test_errors.pt')\n",
    "\n",
    "    print('lr =', lr[ind])\n",
    "    losses_original[ind], _, _ = \\\n",
    "        train(model, optimizer, criterion, train_loader, test_loader, device = device,\n",
    "              wrap_tqdms = False, print_errors = True,\n",
    "              best_model_file = best_model_file, losses_file = losses_file,\n",
    "              train_errors_file = train_errors_file, test_errors_file = test_errors_file)\n",
    "    print()"
   ]
  },
  {
   "cell_type": "code",
   "execution_count": 114,
   "outputs": [],
   "source": [
    "losses_original = []\n",
    "for ind in range(4):\n",
    "    root = '../Result/NN original ' + str(lr[ind])\n",
    "    losses_file = os.path.join(root, 'losses.pt')\n",
    "\n",
    "    losses_original.append(torch.load(losses_file))"
   ],
   "metadata": {
    "collapsed": false,
    "pycharm": {
     "name": "#%%\n"
    }
   }
  },
  {
   "cell_type": "markdown",
   "id": "310cdf89",
   "metadata": {},
   "source": [
    "## 神经元数量"
   ]
  },
  {
   "cell_type": "code",
   "execution_count": 14,
   "id": "8c50ed1e",
   "metadata": {},
   "outputs": [
    {
     "name": "stdout",
     "output_type": "stream",
     "text": [
      "Epoch:  1\tTrain Error: 0.56712\tTest Error: 0.56570\n",
      "Epoch:  2\tTrain Error: 0.52376\tTest Error: 0.52390\n",
      "Epoch:  3\tTrain Error: 0.49590\tTest Error: 0.49740\n",
      "Epoch:  4\tTrain Error: 0.48050\tTest Error: 0.48550\n",
      "Epoch:  5\tTrain Error: 0.46458\tTest Error: 0.47030\n",
      "Epoch:  6\tTrain Error: 0.46180\tTest Error: 0.47470\n",
      "Epoch:  7\tTrain Error: 0.43794\tTest Error: 0.45500\n",
      "Epoch:  8\tTrain Error: 0.42918\tTest Error: 0.44580\n",
      "Epoch:  9\tTrain Error: 0.42394\tTest Error: 0.44050\n",
      "Epoch: 10\tTrain Error: 0.41632\tTest Error: 0.43640\n",
      "Epoch: 11\tTrain Error: 0.41192\tTest Error: 0.43250\n",
      "Epoch: 12\tTrain Error: 0.41512\tTest Error: 0.43050\n",
      "Epoch: 13\tTrain Error: 0.39754\tTest Error: 0.42350\n",
      "Epoch: 14\tTrain Error: 0.38868\tTest Error: 0.41570\n",
      "Epoch: 15\tTrain Error: 0.38494\tTest Error: 0.41300\n",
      "Epoch: 16\tTrain Error: 0.38624\tTest Error: 0.41280\n",
      "Epoch: 17\tTrain Error: 0.38194\tTest Error: 0.41060\n",
      "Epoch: 18\tTrain Error: 0.37920\tTest Error: 0.40880\n",
      "Epoch: 19\tTrain Error: 0.39170\tTest Error: 0.41670\n",
      "Epoch: 20\tTrain Error: 0.37472\tTest Error: 0.40570\n"
     ]
    }
   ],
   "source": [
    "model = NN(hidden_channels = (4, 8), hidden_neurons = (32, 32))\n",
    "optimizer = torch.optim.Adam(model.parameters(), lr = 0.001)\n",
    "criterion = nn.CrossEntropyLoss()\n",
    "\n",
    "root = '../Result/NN smaller'\n",
    "best_model_file = os.path.join(root, 'model.pt')\n",
    "losses_file = os.path.join(root, 'losses.pt')\n",
    "train_errors_file = os.path.join(root, 'train_errors.pt')\n",
    "test_errors_file = os.path.join(root, 'test_errors.pt')\n",
    "\n",
    "_, train_errors_smaller, test_errors_smaller = \\\n",
    "    train(model, optimizer, criterion, train_loader, test_loader, device = device, \n",
    "          wrap_tqdms = False, print_errors = True,\n",
    "          best_model_file = best_model_file, losses_file = losses_file,\n",
    "          train_errors_file = train_errors_file, test_errors_file = test_errors_file)"
   ]
  },
  {
   "cell_type": "code",
   "execution_count": 16,
   "id": "05e5c23a",
   "metadata": {
    "pycharm": {
     "name": "#%%\n"
    }
   },
   "outputs": [
    {
     "name": "stdout",
     "output_type": "stream",
     "text": [
      "Number of parameters: 18210\n"
     ]
    }
   ],
   "source": [
    "print(\"Number of parameters:\", get_num_parameters(model))"
   ]
  },
  {
   "cell_type": "code",
   "execution_count": 17,
   "id": "1060bf46",
   "metadata": {
    "pycharm": {
     "name": "#%%\n"
    }
   },
   "outputs": [
    {
     "name": "stdout",
     "output_type": "stream",
     "text": [
      "Epoch:  1\tTrain Error: 0.34022\tTest Error: 0.36890\n",
      "Epoch:  2\tTrain Error: 0.25568\tTest Error: 0.30960\n",
      "Epoch:  3\tTrain Error: 0.15532\tTest Error: 0.26790\n",
      "Epoch:  4\tTrain Error: 0.08938\tTest Error: 0.26310\n",
      "Epoch:  5\tTrain Error: 0.06042\tTest Error: 0.26830\n",
      "Epoch:  6\tTrain Error: 0.02886\tTest Error: 0.26620\n",
      "Epoch:  7\tTrain Error: 0.03278\tTest Error: 0.27960\n",
      "Epoch:  8\tTrain Error: 0.01704\tTest Error: 0.27340\n",
      "Epoch:  9\tTrain Error: 0.02214\tTest Error: 0.27900\n",
      "Epoch: 10\tTrain Error: 0.02302\tTest Error: 0.28650\n",
      "Epoch: 11\tTrain Error: 0.01574\tTest Error: 0.27650\n",
      "Epoch: 12\tTrain Error: 0.01422\tTest Error: 0.27920\n",
      "Epoch: 13\tTrain Error: 0.01478\tTest Error: 0.27560\n",
      "Epoch: 14\tTrain Error: 0.01156\tTest Error: 0.27760\n",
      "Epoch: 15\tTrain Error: 0.01284\tTest Error: 0.28370\n",
      "Epoch: 16\tTrain Error: 0.01016\tTest Error: 0.28590\n",
      "Epoch: 17\tTrain Error: 0.01112\tTest Error: 0.27340\n",
      "Epoch: 18\tTrain Error: 0.01032\tTest Error: 0.27660\n",
      "Epoch: 19\tTrain Error: 0.00978\tTest Error: 0.27650\n",
      "Epoch: 20\tTrain Error: 0.00998\tTest Error: 0.27710\n"
     ]
    }
   ],
   "source": [
    "model = NN(hidden_channels = (64, 128), hidden_neurons = (512, 512))\n",
    "optimizer = torch.optim.Adam(model.parameters(), lr = 0.001)\n",
    "criterion = nn.CrossEntropyLoss()\n",
    "\n",
    "root = '../Result/NN bigger'\n",
    "best_model_file = os.path.join(root, 'model.pt')\n",
    "losses_file = os.path.join(root, 'losses.pt')\n",
    "train_errors_file = os.path.join(root, 'train_errors.pt')\n",
    "test_errors_file = os.path.join(root, 'test_errors.pt')\n",
    "\n",
    "_, train_errors_bigger, test_errors_bigger = \\\n",
    "    train(model, optimizer, criterion, train_loader, test_loader, device = device,\n",
    "          wrap_tqdms = False, print_errors = True,\n",
    "          best_model_file = best_model_file, losses_file = losses_file,\n",
    "          train_errors_file = train_errors_file, test_errors_file = test_errors_file)"
   ]
  },
  {
   "cell_type": "code",
   "execution_count": 18,
   "id": "837eb85d",
   "metadata": {
    "pycharm": {
     "name": "#%%\n"
    }
   },
   "outputs": [
    {
     "name": "stdout",
     "output_type": "stream",
     "text": [
      "Number of parameters: 4538250\n"
     ]
    }
   ],
   "source": [
    "print(\"Number of parameters:\", get_num_parameters(model))"
   ]
  },
  {
   "cell_type": "code",
   "execution_count": 19,
   "id": "a9e6b6eb",
   "metadata": {
    "pycharm": {
     "name": "#%%\n"
    }
   },
   "outputs": [],
   "source": [
    "plt.plot(train_errors_original, '-+')\n",
    "plt.plot(train_errors_smaller, '-+')\n",
    "plt.plot(train_errors_bigger, '-+')\n",
    "plt.xticks(range(0, 21, 2))\n",
    "plt.legend(['original', 'smaller', 'bigger'])\n",
    "plt.xlabel('epoch')\n",
    "plt.ylabel('error')\n",
    "plt.title('error with different network structures')\n",
    "\n",
    "fig_file = os.path.join(root, 'figure.png')\n",
    "plt.savefig(fig_file)\n",
    "\n",
    "plt.show()"
   ]
  },
  {
   "cell_type": "markdown",
   "id": "3aa4eb9f",
   "metadata": {
    "pycharm": {
     "name": "#%% md\n"
    }
   },
   "source": [
    "## 损失函数"
   ]
  },
  {
   "cell_type": "code",
   "execution_count": 19,
   "id": "f2c033c7",
   "metadata": {
    "pycharm": {
     "name": "#%%\n"
    }
   },
   "outputs": [
    {
     "name": "stdout",
     "output_type": "stream",
     "text": [
      "Epoch:  1\tTrain Error: 0.47478\tTest Error: 0.47100\n",
      "Epoch:  2\tTrain Error: 0.39966\tTest Error: 0.41210\n",
      "Epoch:  3\tTrain Error: 0.35528\tTest Error: 0.37250\n",
      "Epoch:  4\tTrain Error: 0.31880\tTest Error: 0.35440\n",
      "Epoch:  5\tTrain Error: 0.30490\tTest Error: 0.34810\n",
      "Epoch:  6\tTrain Error: 0.29750\tTest Error: 0.34470\n",
      "Epoch:  7\tTrain Error: 0.26048\tTest Error: 0.33180\n",
      "Epoch:  8\tTrain Error: 0.23006\tTest Error: 0.31920\n",
      "Epoch:  9\tTrain Error: 0.21676\tTest Error: 0.31910\n",
      "Epoch: 10\tTrain Error: 0.20512\tTest Error: 0.32740\n",
      "Epoch: 11\tTrain Error: 0.17606\tTest Error: 0.31730\n",
      "Epoch: 12\tTrain Error: 0.18196\tTest Error: 0.32420\n",
      "Epoch: 13\tTrain Error: 0.15332\tTest Error: 0.32370\n",
      "Epoch: 14\tTrain Error: 0.13478\tTest Error: 0.32450\n",
      "Epoch: 15\tTrain Error: 0.11732\tTest Error: 0.31200\n",
      "Epoch: 16\tTrain Error: 0.11272\tTest Error: 0.32720\n",
      "Epoch: 17\tTrain Error: 0.09168\tTest Error: 0.31900\n",
      "Epoch: 18\tTrain Error: 0.08184\tTest Error: 0.31470\n",
      "Epoch: 19\tTrain Error: 0.08724\tTest Error: 0.32420\n",
      "Epoch: 20\tTrain Error: 0.07886\tTest Error: 0.33310\n"
     ]
    }
   ],
   "source": [
    "model = NN()\n",
    "optimizer = torch.optim.Adam(model.parameters(), lr = 0.001)\n",
    "criterion = nn.MultiMarginLoss()\n",
    "\n",
    "root = '../Result/NN hinge'\n",
    "best_model_file = os.path.join(root, 'model.pt')\n",
    "losses_file = os.path.join(root, 'losses.pt')\n",
    "train_errors_file = os.path.join(root, 'train_errors.pt')\n",
    "test_errors_file = os.path.join(root, 'test_errors.pt')\n",
    "\n",
    "_, train_errors_hinge, test_errors_hinge = \\\n",
    "    train(model, optimizer, criterion, train_loader, test_loader, device = device,\n",
    "          wrap_tqdms = False, print_errors = True,\n",
    "          best_model_file = best_model_file, losses_file = losses_file,\n",
    "          train_errors_file = train_errors_file, test_errors_file = test_errors_file)"
   ]
  },
  {
   "cell_type": "code",
   "execution_count": null,
   "id": "953c695f",
   "metadata": {
    "pycharm": {
     "name": "#%%\n"
    }
   },
   "outputs": [],
   "source": [
    "plt.plot(train_errors_original, '-+')\n",
    "plt.plot(train_errors_hinge, '-+')\n",
    "plt.xticks(range(0, 21, 2))\n",
    "plt.legend(['cross entropy', 'multi-class hinge'])\n",
    "plt.xlabel('epoch')\n",
    "plt.ylabel('error')\n",
    "plt.title('error with different loss functions')\n",
    "\n",
    "fig_file = os.path.join(root, 'figure.png')\n",
    "plt.savefig(fig_file)\n",
    "\n",
    "plt.show()"
   ]
  },
  {
   "cell_type": "markdown",
   "id": "3b936bde",
   "metadata": {
    "pycharm": {
     "name": "#%% md\n"
    }
   },
   "source": [
    "## 正则化"
   ]
  },
  {
   "cell_type": "code",
   "execution_count": 26,
   "id": "15b0083a",
   "metadata": {
    "pycharm": {
     "name": "#%%\n"
    }
   },
   "outputs": [
    {
     "name": "stdout",
     "output_type": "stream",
     "text": [
      "lambda = 5e-06\n",
      "Epoch:  1\tTrain Error: 0.47630\tTest Error: 0.47440\n",
      "Epoch:  2\tTrain Error: 0.40784\tTest Error: 0.42120\n",
      "Epoch:  3\tTrain Error: 0.35700\tTest Error: 0.37600\n",
      "Epoch:  4\tTrain Error: 0.32792\tTest Error: 0.36020\n",
      "Epoch:  5\tTrain Error: 0.33160\tTest Error: 0.36830\n",
      "Epoch:  6\tTrain Error: 0.29684\tTest Error: 0.35030\n",
      "Epoch:  7\tTrain Error: 0.24478\tTest Error: 0.32410\n",
      "Epoch:  8\tTrain Error: 0.23482\tTest Error: 0.32230\n",
      "Epoch:  9\tTrain Error: 0.20918\tTest Error: 0.31340\n",
      "Epoch: 10\tTrain Error: 0.19544\tTest Error: 0.31710\n",
      "Epoch: 11\tTrain Error: 0.17610\tTest Error: 0.31630\n",
      "Epoch: 12\tTrain Error: 0.16808\tTest Error: 0.31860\n",
      "Epoch: 13\tTrain Error: 0.16620\tTest Error: 0.32530\n",
      "Epoch: 14\tTrain Error: 0.12396\tTest Error: 0.31130\n",
      "Epoch: 15\tTrain Error: 0.11538\tTest Error: 0.31110\n",
      "Epoch: 16\tTrain Error: 0.10100\tTest Error: 0.31370\n",
      "Epoch: 17\tTrain Error: 0.09030\tTest Error: 0.32150\n",
      "Epoch: 18\tTrain Error: 0.09428\tTest Error: 0.31360\n",
      "Epoch: 19\tTrain Error: 0.07638\tTest Error: 0.31380\n",
      "Epoch: 20\tTrain Error: 0.07034\tTest Error: 0.32350\n",
      "\n"
     ]
    }
   ],
   "source": [
    "weight_decay = (0.05, 0.01, 0.005, 0.0005, 5e-05, 5e-06)\n",
    "train_errors_regularize = [[], [], [], [], [], []]\n",
    "test_errors_regularize = [[], [], [], [], [], []]\n",
    "for ind in range(6):\n",
    "    model = NN()\n",
    "    optimizer = torch.optim.Adam(model.parameters(), lr = 0.001, weight_decay = weight_decay[ind])\n",
    "    criterion = nn.MultiMarginLoss()\n",
    "\n",
    "    root = '../Result/NN regularize ' + str(weight_decay[ind])\n",
    "    best_model_file = os.path.join(root, 'model.pt')\n",
    "    losses_file = os.path.join(root, 'losses.pt')\n",
    "    train_errors_file = os.path.join(root, 'train_errors.pt')\n",
    "    test_errors_file = os.path.join(root, 'test_errors.pt')\n",
    "\n",
    "    print('lambda =', weight_decay[ind])\n",
    "    _, train_errors_regularize[ind], test_errors_regularize[ind] = \\\n",
    "        train(model, optimizer, criterion, train_loader, test_loader, device = device,\n",
    "              wrap_tqdms = False, print_errors = True,\n",
    "              best_model_file = best_model_file, losses_file = losses_file,\n",
    "              train_errors_file = train_errors_file, test_errors_file = test_errors_file)\n",
    "    print()"
   ]
  },
  {
   "cell_type": "code",
   "execution_count": null,
   "id": "9807c816",
   "metadata": {
    "pycharm": {
     "name": "#%%\n"
    }
   },
   "outputs": [],
   "source": [
    "for ind in range(6):\n",
    "    root = '../Result/NN regularize ' + str(weight_decay[ind])\n",
    "    train_errors_file = os.path.join(root, 'train_errors.pt')\n",
    "    test_errors_file = os.path.join(root, 'test_errors.pt')\n",
    "\n",
    "    train_errors_regularize[ind] = torch.load(train_errors_file)\n",
    "    test_errors_regularize[ind] = torch.load(test_errors_file)"
   ]
  },
  {
   "cell_type": "code",
   "execution_count": 27,
   "id": "3423dc96",
   "metadata": {
    "pycharm": {
     "name": "#%%\n"
    }
   },
   "outputs": [],
   "source": [
    "plt.plot(train_errors_original, '-+')\n",
    "for ind in range(6):\n",
    "    plt.plot(train_errors_regularize[ind], '-+')\n",
    "plt.xticks(range(0, 21, 2))\n",
    "plt.legend(['lambda = 0', 'lambda = 0.05', 'lambda = 0.01', 'lambda = 0.005',\n",
    "            'lambda = 0.0005', 'lambda = 5e-05', 'lambda = 5e-06'])\n",
    "plt.xlabel('epoch')\n",
    "plt.ylabel('error')\n",
    "plt.title('error with different regularization parameters')\n",
    "\n",
    "fig_file = os.path.join(root, 'figure.png')\n",
    "plt.savefig(fig_file)\n",
    "\n",
    "plt.show()"
   ]
  },
  {
   "cell_type": "markdown",
   "id": "52f39b31",
   "metadata": {
    "pycharm": {
     "name": "#%% md\n"
    }
   },
   "source": [
    "## 激活函数"
   ]
  },
  {
   "cell_type": "code",
   "execution_count": 49,
   "id": "80a1b78c",
   "metadata": {
    "pycharm": {
     "name": "#%%\n"
    }
   },
   "outputs": [
    {
     "name": "stdout",
     "output_type": "stream",
     "text": [
      "Epoch:  1\tTrain Error: 0.43420\tTest Error: 0.44720\n",
      "Epoch:  2\tTrain Error: 0.34858\tTest Error: 0.38320\n",
      "Epoch:  3\tTrain Error: 0.29240\tTest Error: 0.34210\n",
      "Epoch:  4\tTrain Error: 0.25256\tTest Error: 0.33230\n",
      "Epoch:  5\tTrain Error: 0.22498\tTest Error: 0.32490\n",
      "Epoch:  6\tTrain Error: 0.19206\tTest Error: 0.31820\n",
      "Epoch:  7\tTrain Error: 0.15584\tTest Error: 0.31690\n",
      "Epoch:  8\tTrain Error: 0.12684\tTest Error: 0.31510\n",
      "Epoch:  9\tTrain Error: 0.10078\tTest Error: 0.31970\n",
      "Epoch: 10\tTrain Error: 0.07744\tTest Error: 0.32780\n",
      "Epoch: 11\tTrain Error: 0.07006\tTest Error: 0.32740\n",
      "Epoch: 12\tTrain Error: 0.05364\tTest Error: 0.33220\n",
      "Epoch: 13\tTrain Error: 0.05414\tTest Error: 0.33790\n",
      "Epoch: 14\tTrain Error: 0.02668\tTest Error: 0.33510\n",
      "Epoch: 15\tTrain Error: 0.03576\tTest Error: 0.33920\n",
      "Epoch: 16\tTrain Error: 0.03458\tTest Error: 0.34000\n",
      "Epoch: 17\tTrain Error: 0.03564\tTest Error: 0.34330\n",
      "Epoch: 18\tTrain Error: 0.02528\tTest Error: 0.33810\n",
      "Epoch: 19\tTrain Error: 0.01660\tTest Error: 0.34040\n",
      "Epoch: 20\tTrain Error: 0.02204\tTest Error: 0.34400\n"
     ]
    }
   ],
   "source": [
    "model = NN_tanh()\n",
    "optimizer = torch.optim.Adam(model.parameters(), lr = 0.001)\n",
    "criterion = nn.CrossEntropyLoss()\n",
    "\n",
    "root = '../Result/NN tanh'\n",
    "best_model_file = os.path.join(root, 'model.pt')\n",
    "losses_file = os.path.join(root, 'losses.pt')\n",
    "train_errors_file = os.path.join(root, 'train_errors.pt')\n",
    "test_errors_file = os.path.join(root, 'test_errors.pt')\n",
    "\n",
    "_, train_errors_tanh, test_errors_tanh = \\\n",
    "    train(model, optimizer, criterion, train_loader, test_loader, device = device,\n",
    "          wrap_tqdms = False, print_errors = True,\n",
    "          best_model_file = best_model_file, losses_file = losses_file,\n",
    "          train_errors_file = train_errors_file, test_errors_file = test_errors_file)"
   ]
  },
  {
   "cell_type": "code",
   "execution_count": 50,
   "id": "764c6a08",
   "metadata": {
    "pycharm": {
     "name": "#%%\n"
    }
   },
   "outputs": [
    {
     "name": "stdout",
     "output_type": "stream",
     "text": [
      "Epoch:  1\tTrain Error: 0.56664\tTest Error: 0.56280\n",
      "Epoch:  2\tTrain Error: 0.50996\tTest Error: 0.51470\n",
      "Epoch:  3\tTrain Error: 0.47486\tTest Error: 0.48340\n",
      "Epoch:  4\tTrain Error: 0.43388\tTest Error: 0.44960\n",
      "Epoch:  5\tTrain Error: 0.41640\tTest Error: 0.44020\n",
      "Epoch:  6\tTrain Error: 0.40766\tTest Error: 0.44020\n",
      "Epoch:  7\tTrain Error: 0.37530\tTest Error: 0.41580\n",
      "Epoch:  8\tTrain Error: 0.35228\tTest Error: 0.40010\n",
      "Epoch:  9\tTrain Error: 0.33910\tTest Error: 0.40330\n",
      "Epoch: 10\tTrain Error: 0.31796\tTest Error: 0.39100\n",
      "Epoch: 11\tTrain Error: 0.31764\tTest Error: 0.39090\n",
      "Epoch: 12\tTrain Error: 0.29400\tTest Error: 0.38290\n",
      "Epoch: 13\tTrain Error: 0.29114\tTest Error: 0.38420\n",
      "Epoch: 14\tTrain Error: 0.25812\tTest Error: 0.36490\n",
      "Epoch: 15\tTrain Error: 0.24832\tTest Error: 0.37130\n",
      "Epoch: 16\tTrain Error: 0.24544\tTest Error: 0.37410\n",
      "Epoch: 17\tTrain Error: 0.22780\tTest Error: 0.36940\n",
      "Epoch: 18\tTrain Error: 0.21632\tTest Error: 0.36750\n",
      "Epoch: 19\tTrain Error: 0.19766\tTest Error: 0.36830\n",
      "Epoch: 20\tTrain Error: 0.18318\tTest Error: 0.36770\n"
     ]
    }
   ],
   "source": [
    "model = NN_softplus()\n",
    "optimizer = torch.optim.Adam(model.parameters(), lr = 0.001)\n",
    "criterion = nn.CrossEntropyLoss()\n",
    "\n",
    "root = '../Result/NN softplus'\n",
    "best_model_file = os.path.join(root, 'model.pt')\n",
    "losses_file = os.path.join(root, 'losses.pt')\n",
    "train_errors_file = os.path.join(root, 'train_errors.pt')\n",
    "test_errors_file = os.path.join(root, 'test_errors.pt')\n",
    "\n",
    "_, train_errors_softplus, test_errors_softplus = \\\n",
    "    train(model, optimizer, criterion, train_loader, test_loader, device = device,\n",
    "          wrap_tqdms = False, print_errors = True,\n",
    "          best_model_file = best_model_file, losses_file = losses_file,\n",
    "          train_errors_file = train_errors_file, test_errors_file = test_errors_file)"
   ]
  },
  {
   "cell_type": "code",
   "execution_count": null,
   "id": "804a10d1",
   "metadata": {
    "pycharm": {
     "name": "#%%\n"
    }
   },
   "outputs": [],
   "source": [
    "plt.plot(train_errors_original, '-+')\n",
    "plt.plot(train_errors_tanh, '-+')\n",
    "plt.plot(train_errors_softplus, '-+')\n",
    "plt.xticks(range(0, 21, 2))\n",
    "plt.legend(['ReLU', 'tanh', 'softmax'])\n",
    "plt.xlabel('epoch')\n",
    "plt.ylabel('error')\n",
    "plt.title('error with different activation functions')\n",
    "\n",
    "fig_file = os.path.join(root, 'figure.png')\n",
    "plt.savefig(fig_file)\n",
    "\n",
    "plt.show()"
   ]
  },
  {
   "cell_type": "markdown",
   "id": "3b388061",
   "metadata": {
    "pycharm": {
     "name": "#%% md\n"
    }
   },
   "source": [
    "## 优化器"
   ]
  },
  {
   "cell_type": "code",
   "execution_count": 52,
   "id": "cce79673",
   "metadata": {
    "pycharm": {
     "name": "#%%\n"
    }
   },
   "outputs": [
    {
     "name": "stdout",
     "output_type": "stream",
     "text": [
      "Epoch:  1\tTrain Error: 0.90000\tTest Error: 0.90000\n",
      "Epoch:  2\tTrain Error: 0.90000\tTest Error: 0.90000\n",
      "Epoch:  3\tTrain Error: 0.90000\tTest Error: 0.90000\n",
      "Epoch:  4\tTrain Error: 0.90000\tTest Error: 0.90000\n",
      "Epoch:  5\tTrain Error: 0.90000\tTest Error: 0.90000\n",
      "Epoch:  6\tTrain Error: 0.89742\tTest Error: 0.89780\n",
      "Epoch:  7\tTrain Error: 0.87902\tTest Error: 0.87760\n",
      "Epoch:  8\tTrain Error: 0.86006\tTest Error: 0.85850\n",
      "Epoch:  9\tTrain Error: 0.84592\tTest Error: 0.84560\n",
      "Epoch: 10\tTrain Error: 0.83546\tTest Error: 0.83230\n",
      "Epoch: 11\tTrain Error: 0.82320\tTest Error: 0.81680\n",
      "Epoch: 12\tTrain Error: 0.81324\tTest Error: 0.80290\n",
      "Epoch: 13\tTrain Error: 0.80622\tTest Error: 0.79740\n",
      "Epoch: 14\tTrain Error: 0.80354\tTest Error: 0.79630\n",
      "Epoch: 15\tTrain Error: 0.80150\tTest Error: 0.79750\n",
      "Epoch: 16\tTrain Error: 0.79990\tTest Error: 0.79750\n",
      "Epoch: 17\tTrain Error: 0.79844\tTest Error: 0.79670\n",
      "Epoch: 18\tTrain Error: 0.79664\tTest Error: 0.79360\n",
      "Epoch: 19\tTrain Error: 0.79386\tTest Error: 0.79020\n",
      "Epoch: 20\tTrain Error: 0.78832\tTest Error: 0.78390\n"
     ]
    }
   ],
   "source": [
    "model = NN()\n",
    "optimizer = torch.optim.SGD(model.parameters(), lr = 0.001)\n",
    "criterion = nn.CrossEntropyLoss()\n",
    "\n",
    "root = '../Result/NN SGD'\n",
    "best_model_file = os.path.join(root, 'model.pt')\n",
    "losses_file = os.path.join(root, 'losses.pt')\n",
    "train_errors_file = os.path.join(root, 'train_errors.pt')\n",
    "test_errors_file = os.path.join(root, 'test_errors.pt')\n",
    "\n",
    "_, train_errors_SGD, test_errors_SGD = \\\n",
    "    train(model, optimizer, criterion, train_loader, test_loader, device = device,\n",
    "          wrap_tqdms = False, print_errors = True,\n",
    "          best_model_file = best_model_file, losses_file = losses_file,\n",
    "          train_errors_file = train_errors_file, test_errors_file = test_errors_file)"
   ]
  },
  {
   "cell_type": "code",
   "execution_count": 53,
   "id": "78bdc731",
   "metadata": {
    "pycharm": {
     "name": "#%%\n"
    }
   },
   "outputs": [
    {
     "name": "stdout",
     "output_type": "stream",
     "text": [
      "Epoch:  1\tTrain Error: 0.84008\tTest Error: 0.83970\n",
      "Epoch:  2\tTrain Error: 0.79242\tTest Error: 0.79000\n",
      "Epoch:  3\tTrain Error: 0.72054\tTest Error: 0.71420\n",
      "Epoch:  4\tTrain Error: 0.66114\tTest Error: 0.65670\n",
      "Epoch:  5\tTrain Error: 0.61398\tTest Error: 0.61600\n",
      "Epoch:  6\tTrain Error: 0.58802\tTest Error: 0.58170\n",
      "Epoch:  7\tTrain Error: 0.54798\tTest Error: 0.54520\n",
      "Epoch:  8\tTrain Error: 0.52566\tTest Error: 0.52770\n",
      "Epoch:  9\tTrain Error: 0.51558\tTest Error: 0.51640\n",
      "Epoch: 10\tTrain Error: 0.48938\tTest Error: 0.49500\n",
      "Epoch: 11\tTrain Error: 0.48120\tTest Error: 0.48710\n",
      "Epoch: 12\tTrain Error: 0.47424\tTest Error: 0.47670\n",
      "Epoch: 13\tTrain Error: 0.44938\tTest Error: 0.45800\n",
      "Epoch: 14\tTrain Error: 0.43124\tTest Error: 0.44410\n",
      "Epoch: 15\tTrain Error: 0.42288\tTest Error: 0.43590\n",
      "Epoch: 16\tTrain Error: 0.41154\tTest Error: 0.42920\n",
      "Epoch: 17\tTrain Error: 0.39530\tTest Error: 0.41570\n",
      "Epoch: 18\tTrain Error: 0.38634\tTest Error: 0.40540\n",
      "Epoch: 19\tTrain Error: 0.37758\tTest Error: 0.40070\n",
      "Epoch: 20\tTrain Error: 0.36856\tTest Error: 0.39020\n"
     ]
    }
   ],
   "source": [
    "model = NN()\n",
    "optimizer = torch.optim.SGD(model.parameters(), lr = 0.001, momentum = 0.9)\n",
    "criterion = nn.CrossEntropyLoss()\n",
    "\n",
    "root = '../Result/NN momentum'\n",
    "best_model_file = os.path.join(root, 'model.pt')\n",
    "losses_file = os.path.join(root, 'losses.pt')\n",
    "train_errors_file = os.path.join(root, 'train_errors.pt')\n",
    "test_errors_file = os.path.join(root, 'test_errors.pt')\n",
    "\n",
    "_, train_errors_momentum, test_errors_momentum = \\\n",
    "    train(model, optimizer, criterion, train_loader, test_loader, device = device,\n",
    "          wrap_tqdms = False, print_errors = True,\n",
    "          best_model_file = best_model_file, losses_file = losses_file,\n",
    "          train_errors_file = train_errors_file, test_errors_file = test_errors_file)"
   ]
  },
  {
   "cell_type": "code",
   "execution_count": 54,
   "id": "1d237fe7",
   "metadata": {
    "pycharm": {
     "name": "#%%\n"
    }
   },
   "outputs": [
    {
     "name": "stdout",
     "output_type": "stream",
     "text": [
      "Epoch:  1\tTrain Error: 0.44996\tTest Error: 0.45350\n",
      "Epoch:  2\tTrain Error: 0.41744\tTest Error: 0.42470\n",
      "Epoch:  3\tTrain Error: 0.37288\tTest Error: 0.38960\n",
      "Epoch:  4\tTrain Error: 0.35932\tTest Error: 0.37700\n",
      "Epoch:  5\tTrain Error: 0.33294\tTest Error: 0.35920\n",
      "Epoch:  6\tTrain Error: 0.31434\tTest Error: 0.34640\n",
      "Epoch:  7\tTrain Error: 0.30964\tTest Error: 0.34510\n",
      "Epoch:  8\tTrain Error: 0.29284\tTest Error: 0.33840\n",
      "Epoch:  9\tTrain Error: 0.29332\tTest Error: 0.34140\n",
      "Epoch: 10\tTrain Error: 0.27986\tTest Error: 0.33110\n",
      "Epoch: 11\tTrain Error: 0.27984\tTest Error: 0.33370\n",
      "Epoch: 12\tTrain Error: 0.27234\tTest Error: 0.32730\n",
      "Epoch: 13\tTrain Error: 0.26212\tTest Error: 0.32090\n",
      "Epoch: 14\tTrain Error: 0.25808\tTest Error: 0.32560\n",
      "Epoch: 15\tTrain Error: 0.24690\tTest Error: 0.31400\n",
      "Epoch: 16\tTrain Error: 0.24550\tTest Error: 0.31620\n",
      "Epoch: 17\tTrain Error: 0.24596\tTest Error: 0.31860\n",
      "Epoch: 18\tTrain Error: 0.23520\tTest Error: 0.31240\n",
      "Epoch: 19\tTrain Error: 0.23396\tTest Error: 0.31480\n",
      "Epoch: 20\tTrain Error: 0.23366\tTest Error: 0.31240\n"
     ]
    }
   ],
   "source": [
    "model = NN()\n",
    "optimizer = torch.optim.Adagrad(model.parameters(), lr = 0.01)\n",
    "criterion = nn.CrossEntropyLoss()\n",
    "\n",
    "root = '../Result/NN Adagrad'\n",
    "best_model_file = os.path.join(root, 'model.pt')\n",
    "losses_file = os.path.join(root, 'losses.pt')\n",
    "train_errors_file = os.path.join(root, 'train_errors.pt')\n",
    "test_errors_file = os.path.join(root, 'test_errors.pt')\n",
    "\n",
    "_, train_errors_Adagrad, test_errors_Adagrad = \\\n",
    "    train(model, optimizer, criterion, train_loader, test_loader, device = device,\n",
    "          wrap_tqdms = False, print_errors = True,\n",
    "          best_model_file = best_model_file, losses_file = losses_file,\n",
    "          train_errors_file = train_errors_file, test_errors_file = test_errors_file)"
   ]
  },
  {
   "cell_type": "code",
   "execution_count": null,
   "id": "736a11ed",
   "metadata": {
    "pycharm": {
     "name": "#%%\n"
    }
   },
   "outputs": [],
   "source": [
    "plt.plot(train_errors_original, '-+')\n",
    "plt.plot(train_errors_SGD, '-+')\n",
    "plt.plot(train_errors_momentum, '-+')\n",
    "plt.plot(train_errors_Adagrad, '-+')\n",
    "plt.xticks(range(0, 21, 2))\n",
    "plt.legend(['Adam', 'SGD', 'SGD + momentum', 'Adagrad'])\n",
    "plt.xlabel('epoch')\n",
    "plt.ylabel('error')\n",
    "plt.title('error with different optimizers')\n",
    "\n",
    "fig_file = os.path.join(root, 'figure.png')\n",
    "plt.savefig(fig_file)\n",
    "\n",
    "plt.show()"
   ]
  },
  {
   "cell_type": "markdown",
   "id": "e069570b",
   "metadata": {
    "pycharm": {
     "name": "#%% md\n"
    }
   },
   "source": [
    "## 批归一化"
   ]
  },
  {
   "cell_type": "code",
   "execution_count": 61,
   "id": "9c3f7974",
   "metadata": {
    "pycharm": {
     "name": "#%%\n"
    }
   },
   "outputs": [
    {
     "name": "stdout",
     "output_type": "stream",
     "text": [
      "Epoch:  1\tTrain Error: 0.29612\tTest Error: 0.34010\n",
      "Epoch:  2\tTrain Error: 0.27332\tTest Error: 0.34330\n",
      "Epoch:  3\tTrain Error: 0.19218\tTest Error: 0.30290\n",
      "Epoch:  4\tTrain Error: 0.14860\tTest Error: 0.29660\n",
      "Epoch:  5\tTrain Error: 0.11308\tTest Error: 0.29240\n",
      "Epoch:  6\tTrain Error: 0.09394\tTest Error: 0.29240\n",
      "Epoch:  7\tTrain Error: 0.08498\tTest Error: 0.30650\n",
      "Epoch:  8\tTrain Error: 0.05554\tTest Error: 0.30260\n",
      "Epoch:  9\tTrain Error: 0.05398\tTest Error: 0.30030\n",
      "Epoch: 10\tTrain Error: 0.03364\tTest Error: 0.30270\n",
      "Epoch: 11\tTrain Error: 0.03626\tTest Error: 0.30380\n",
      "Epoch: 12\tTrain Error: 0.02468\tTest Error: 0.30080\n",
      "Epoch: 13\tTrain Error: 0.03412\tTest Error: 0.30960\n",
      "Epoch: 14\tTrain Error: 0.02726\tTest Error: 0.29860\n",
      "Epoch: 15\tTrain Error: 0.03958\tTest Error: 0.31550\n",
      "Epoch: 16\tTrain Error: 0.01898\tTest Error: 0.30570\n",
      "Epoch: 17\tTrain Error: 0.02028\tTest Error: 0.30750\n",
      "Epoch: 18\tTrain Error: 0.01306\tTest Error: 0.30090\n",
      "Epoch: 19\tTrain Error: 0.01754\tTest Error: 0.30090\n",
      "Epoch: 20\tTrain Error: 0.01504\tTest Error: 0.30690\n"
     ]
    }
   ],
   "source": [
    "model = NN_BN()\n",
    "optimizer = torch.optim.Adam(model.parameters(), lr = 0.001)\n",
    "criterion = nn.CrossEntropyLoss()\n",
    "\n",
    "root = '../Result/NN BN 0.001'\n",
    "best_model_file = os.path.join(root, 'model.pt')\n",
    "losses_file = os.path.join(root, 'losses.pt')\n",
    "train_errors_file = os.path.join(root, 'train_errors.pt')\n",
    "test_errors_file = os.path.join(root, 'test_errors.pt')\n",
    "\n",
    "_, train_errors_BN, test_errors_BN = \\\n",
    "    train(model, optimizer, criterion, train_loader, test_loader, device = device,\n",
    "          wrap_tqdms = False, print_errors = True,\n",
    "          best_model_file = best_model_file, losses_file = losses_file,\n",
    "          train_errors_file = train_errors_file, test_errors_file = test_errors_file)"
   ]
  },
  {
   "cell_type": "code",
   "execution_count": null,
   "id": "0fcf8aae",
   "metadata": {
    "pycharm": {
     "name": "#%%\n"
    }
   },
   "outputs": [],
   "source": [
    "root = '../Result/NN BN'\n",
    "losses_file = os.path.join(root, 'losses.pt')\n",
    "train_errors_file = os.path.join(root, 'train_errors.pt')\n",
    "test_errors_file = os.path.join(root, 'test_errors.pt')\n",
    "\n",
    "losses_BN = torch.load(losses_file)\n",
    "train_errors_BN = torch.load(train_errors_file)\n",
    "test_errors_BN = torch.load(test_errors_file)"
   ]
  },
  {
   "cell_type": "code",
   "execution_count": 6,
   "id": "f1ea85c8",
   "metadata": {
    "pycharm": {
     "name": "#%%\n"
    }
   },
   "outputs": [
    {
     "data": {
      "image/png": "[encoded data removed]",
      "text/plain": [
       "<Figure size 432x288 with 1 Axes>"
      ]
     },
     "metadata": {
      "needs_background": "light"
     },
     "output_type": "display_data"
    }
   ],
   "source": [
    "plt.plot(train_errors_original, '-+')\n",
    "plt.plot(train_errors_BN, '-+')\n",
    "plt.xticks(range(0, 21, 2))\n",
    "plt.legend(['without BN', 'with BN'])\n",
    "plt.xlabel('epoch')\n",
    "plt.ylabel('error')\n",
    "plt.title('error with or without batch normalization')\n",
    "\n",
    "fig_file = os.path.join(root, 'figure.png')\n",
    "plt.savefig(fig_file)\n",
    "\n",
    "plt.show()"
   ]
  },
  {
   "cell_type": "code",
   "execution_count": null,
   "id": "65e9d5a2",
   "metadata": {
    "pycharm": {
     "name": "#%%\n"
    }
   },
   "outputs": [],
   "source": [
    "plt.plot(train_errors_BN, '-+')\n",
    "plt.plot(test_errors_BN, '-+')\n",
    "plt.xticks(range(0, 21, 2))\n",
    "plt.legend(['train', 'test'])\n",
    "plt.xlabel('epoch')\n",
    "plt.ylabel('error')\n",
    "plt.title('error on training and testing set')\n",
    "\n",
    "plt.show()"
   ]
  },
  {
   "cell_type": "code",
   "execution_count": 10,
   "id": "71cf6704",
   "metadata": {
    "pycharm": {
     "name": "#%%\n"
    }
   },
   "outputs": [
    {
     "name": "stdout",
     "output_type": "stream",
     "text": [
      "Epoch:  1\tTrain Error: 0.29542\tTest Error: 0.33330\n",
      "Epoch:  2\tTrain Error: 0.25584\tTest Error: 0.32480\n",
      "Epoch:  3\tTrain Error: 0.20476\tTest Error: 0.30570\n",
      "Epoch:  4\tTrain Error: 0.16476\tTest Error: 0.29810\n",
      "Epoch:  5\tTrain Error: 0.12952\tTest Error: 0.29190\n",
      "Epoch:  6\tTrain Error: 0.10958\tTest Error: 0.29840\n",
      "Epoch:  7\tTrain Error: 0.09348\tTest Error: 0.29410\n",
      "Epoch:  8\tTrain Error: 0.08430\tTest Error: 0.30510\n",
      "Epoch:  9\tTrain Error: 0.04722\tTest Error: 0.29040\n",
      "Epoch: 10\tTrain Error: 0.03158\tTest Error: 0.29120\n",
      "Epoch: 11\tTrain Error: 0.03856\tTest Error: 0.29320\n",
      "Epoch: 12\tTrain Error: 0.03700\tTest Error: 0.30530\n",
      "Epoch: 13\tTrain Error: 0.02674\tTest Error: 0.29200\n",
      "Epoch: 14\tTrain Error: 0.02238\tTest Error: 0.29630\n",
      "Epoch: 15\tTrain Error: 0.01922\tTest Error: 0.29160\n",
      "Epoch: 16\tTrain Error: 0.02038\tTest Error: 0.29490\n",
      "Epoch: 17\tTrain Error: 0.01266\tTest Error: 0.29520\n",
      "Epoch: 18\tTrain Error: 0.02598\tTest Error: 0.30410\n",
      "Epoch: 19\tTrain Error: 0.01136\tTest Error: 0.29460\n",
      "Epoch: 20\tTrain Error: 0.02194\tTest Error: 0.30660\n",
      "Epoch:  1\tTrain Error: 0.44260\tTest Error: 0.45840\n",
      "Epoch:  2\tTrain Error: 0.35176\tTest Error: 0.39270\n",
      "Epoch:  3\tTrain Error: 0.29582\tTest Error: 0.35870\n",
      "Epoch:  4\tTrain Error: 0.26972\tTest Error: 0.35140\n",
      "Epoch:  5\tTrain Error: 0.22276\tTest Error: 0.33210\n",
      "Epoch:  6\tTrain Error: 0.20118\tTest Error: 0.33390\n",
      "Epoch:  7\tTrain Error: 0.16818\tTest Error: 0.32980\n",
      "Epoch:  8\tTrain Error: 0.14366\tTest Error: 0.32310\n",
      "Epoch:  9\tTrain Error: 0.11940\tTest Error: 0.32510\n",
      "Epoch: 10\tTrain Error: 0.09502\tTest Error: 0.32930\n",
      "Epoch: 11\tTrain Error: 0.09448\tTest Error: 0.32890\n",
      "Epoch: 12\tTrain Error: 0.07000\tTest Error: 0.32990\n",
      "Epoch: 13\tTrain Error: 0.06868\tTest Error: 0.34020\n",
      "Epoch: 14\tTrain Error: 0.05648\tTest Error: 0.34140\n",
      "Epoch: 15\tTrain Error: 0.03314\tTest Error: 0.33710\n",
      "Epoch: 16\tTrain Error: 0.02540\tTest Error: 0.33530\n",
      "Epoch: 17\tTrain Error: 0.02362\tTest Error: 0.34110\n",
      "Epoch: 18\tTrain Error: 0.03930\tTest Error: 0.35850\n",
      "Epoch: 19\tTrain Error: 0.02054\tTest Error: 0.34440\n",
      "Epoch: 20\tTrain Error: 0.00914\tTest Error: 0.34150\n",
      "Epoch:  1\tTrain Error: 0.32148\tTest Error: 0.36420\n",
      "Epoch:  2\tTrain Error: 0.26624\tTest Error: 0.34000\n",
      "Epoch:  3\tTrain Error: 0.19168\tTest Error: 0.30700\n",
      "Epoch:  4\tTrain Error: 0.16542\tTest Error: 0.31430\n",
      "Epoch:  5\tTrain Error: 0.11388\tTest Error: 0.30270\n",
      "Epoch:  6\tTrain Error: 0.09338\tTest Error: 0.30330\n",
      "Epoch:  7\tTrain Error: 0.09086\tTest Error: 0.31140\n",
      "Epoch:  8\tTrain Error: 0.06420\tTest Error: 0.31650\n",
      "Epoch:  9\tTrain Error: 0.04802\tTest Error: 0.31010\n",
      "Epoch: 10\tTrain Error: 0.03340\tTest Error: 0.31290\n",
      "Epoch: 11\tTrain Error: 0.03594\tTest Error: 0.31320\n",
      "Epoch: 12\tTrain Error: 0.03486\tTest Error: 0.32660\n",
      "Epoch: 13\tTrain Error: 0.02148\tTest Error: 0.32170\n",
      "Epoch: 14\tTrain Error: 0.02446\tTest Error: 0.31760\n",
      "Epoch: 15\tTrain Error: 0.01098\tTest Error: 0.31080\n",
      "Epoch: 16\tTrain Error: 0.01944\tTest Error: 0.31450\n",
      "Epoch: 17\tTrain Error: 0.01824\tTest Error: 0.32190\n",
      "Epoch: 18\tTrain Error: 0.02144\tTest Error: 0.32700\n",
      "Epoch: 19\tTrain Error: 0.01728\tTest Error: 0.31640\n",
      "Epoch: 20\tTrain Error: 0.01000\tTest Error: 0.31710\n"
     ]
    }
   ],
   "source": [
    "losses_BN = [[], [], [], []]\n",
    "for ind in range(4):\n",
    "    model = NN_BN()\n",
    "    optimizer = torch.optim.Adam(model.parameters(), lr = lr[ind])\n",
    "    criterion = nn.CrossEntropyLoss()\n",
    "\n",
    "    root = '../Result/NN BN ' + str(lr[ind])\n",
    "    best_model_file = os.path.join(root, 'model.pt')\n",
    "    losses_file = os.path.join(root, 'losses.pt')\n",
    "    train_errors_file = os.path.join(root, 'train_errors.pt')\n",
    "    test_errors_file = os.path.join(root, 'test_errors.pt')\n",
    "\n",
    "    print('lr =', lr[ind])\n",
    "    losses_BN[ind], _, _ = \\\n",
    "        train(model, optimizer, criterion, train_loader, test_loader, device = device,\n",
    "              wrap_tqdms = False, print_errors = True,\n",
    "              best_model_file = best_model_file, losses_file = losses_file,\n",
    "              train_errors_file = train_errors_file, test_errors_file = test_errors_file)\n",
    "    print()"
   ]
  },
  {
   "cell_type": "code",
   "execution_count": 26,
   "id": "b8130d93",
   "metadata": {
    "pycharm": {
     "name": "#%%\n"
    }
   },
   "outputs": [],
   "source": [
    "losses_BN = []\n",
    "for ind in range(4):\n",
    "    root = '../Result/NN BN ' + str(lr[ind])\n",
    "    losses_file = os.path.join(root, 'losses.pt')\n",
    "\n",
    "    losses_BN.append(torch.load(losses_file))"
   ]
  },
  {
   "cell_type": "code",
   "execution_count": 119,
   "id": "972467c6",
   "metadata": {
    "pycharm": {
     "name": "#%%\n"
    }
   },
   "outputs": [
    {
     "data": {
      "text/plain": "<Figure size 432x288 with 1 Axes>",
      "image/png": "[encoded data removed]"
     },
     "metadata": {
      "needs_background": "light"
     },
     "output_type": "display_data"
    }
   ],
   "source": [
    "min_curve, max_curve = loss_landscape(losses_original)\n",
    "plt.fill_between(range(len(min_curve)), min_curve, max_curve, alpha = 0.5)\n",
    "\n",
    "min_curve, max_curve = loss_landscape(losses_BN)\n",
    "plt.fill_between(range(len(min_curve)), min_curve, max_curve, alpha = 0.5)\n",
    "\n",
    "plt.legend(['NN without BN', 'NN with BN'])\n",
    "plt.xlabel('step')\n",
    "plt.ylabel('loss')\n",
    "plt.title('loss landscape')\n",
    "\n",
    "fig_file = os.path.join(root, 'figure.png')\n",
    "plt.savefig(fig_file)\n",
    "\n",
    "plt.show()"
   ]
  },
  {
   "cell_type": "markdown",
   "id": "c5faf075",
   "metadata": {},
   "source": [
    "## 丢弃法"
   ]
  },
  {
   "cell_type": "code",
   "execution_count": null,
   "id": "0c303f4e",
   "metadata": {
    "pycharm": {
     "name": "#%%\n"
    }
   },
   "outputs": [],
   "source": [
    "prob = (0.2, 0.5)\n",
    "train_errors_dropout = [[], []]\n",
    "test_errors_dropout = [[], []]\n",
    "for ind in range(2):\n",
    "    model = NN_dropout(prob = prob[ind])\n",
    "    optimizer = torch.optim.Adam(model.parameters(), lr = 0.001)\n",
    "    criterion = nn.CrossEntropyLoss()\n",
    "\n",
    "    root = '../Result/NN dropout ' + str(prob[ind])\n",
    "    best_model_file = os.path.join(root, 'model.pt')\n",
    "    losses_file = os.path.join(root, 'losses.pt')\n",
    "    train_errors_file = os.path.join(root, 'train_errors.pt')\n",
    "    test_errors_file = os.path.join(root, 'test_errors.pt')\n",
    "\n",
    "    print('prob =', prob[ind])\n",
    "    _, train_errors_dropout[ind], test_errors_dropout[ind] = \\\n",
    "        train(model, optimizer, criterion, train_loader, test_loader, device = device,\n",
    "              wrap_tqdms = False, print_errors = True,\n",
    "              best_model_file = best_model_file, losses_file = losses_file,\n",
    "              train_errors_file = train_errors_file, test_errors_file = test_errors_file)\n",
    "    print()"
   ]
  },
  {
   "cell_type": "code",
   "execution_count": 71,
   "id": "836e479a",
   "metadata": {
    "pycharm": {
     "name": "#%%\n"
    }
   },
   "outputs": [
    {
     "data": {
      "image/png": "[encoded data removed]",
      "text/plain": [
       "<Figure size 432x288 with 1 Axes>"
      ]
     },
     "metadata": {
      "needs_background": "light"
     },
     "output_type": "display_data"
    }
   ],
   "source": [
    "plt.plot(train_errors_original, '-+')\n",
    "plt.plot(train_errors_dropout[0], '-+')\n",
    "plt.plot(train_errors_dropout[1], '-+')\n",
    "plt.xticks(range(0, 21, 2))\n",
    "plt.legend(['prob = 0', 'prob = 0.2', 'prob = 0.5'])\n",
    "plt.xlabel('epoch')\n",
    "plt.ylabel('error')\n",
    "plt.title('error with or without dropout')\n",
    "\n",
    "fig_file = os.path.join(root, 'figure.png')\n",
    "plt.savefig(fig_file)\n",
    "\n",
    "plt.show()"
   ]
  },
  {
   "cell_type": "markdown",
   "id": "273c6967",
   "metadata": {},
   "source": [
    "## 最优设置"
   ]
  },
  {
   "cell_type": "code",
   "execution_count": 11,
   "id": "37acadc6",
   "metadata": {
    "pycharm": {
     "name": "#%%\n"
    }
   },
   "outputs": [
    {
     "name": "stdout",
     "output_type": "stream",
     "text": [
      "Epoch:  1\tTrain Error: 0.22986\tTest Error: 0.28330\n",
      "Epoch:  2\tTrain Error: 0.21084\tTest Error: 0.29680\n",
      "Epoch:  3\tTrain Error: 0.10234\tTest Error: 0.24600\n",
      "Epoch:  4\tTrain Error: 0.07902\tTest Error: 0.26760\n",
      "Epoch:  5\tTrain Error: 0.07092\tTest Error: 0.27530\n",
      "Epoch:  6\tTrain Error: 0.03784\tTest Error: 0.25500\n",
      "Epoch:  7\tTrain Error: 0.06066\tTest Error: 0.27360\n",
      "Epoch:  8\tTrain Error: 0.03044\tTest Error: 0.26270\n",
      "Epoch:  9\tTrain Error: 0.02526\tTest Error: 0.25510\n",
      "Epoch: 10\tTrain Error: 0.01612\tTest Error: 0.24750\n",
      "Epoch: 11\tTrain Error: 0.02386\tTest Error: 0.25430\n",
      "Epoch: 12\tTrain Error: 0.02920\tTest Error: 0.26870\n",
      "Epoch: 13\tTrain Error: 0.01768\tTest Error: 0.24660\n",
      "Epoch: 14\tTrain Error: 0.00834\tTest Error: 0.24250\n",
      "Epoch: 15\tTrain Error: 0.01184\tTest Error: 0.24620\n",
      "Epoch: 16\tTrain Error: 0.01082\tTest Error: 0.24460\n",
      "Epoch: 17\tTrain Error: 0.01660\tTest Error: 0.25170\n",
      "Epoch: 18\tTrain Error: 0.00612\tTest Error: 0.24010\n",
      "Epoch: 19\tTrain Error: 0.00520\tTest Error: 0.23760\n",
      "Epoch: 20\tTrain Error: 0.00664\tTest Error: 0.24620\n"
     ]
    }
   ],
   "source": [
    "model = NN_BN(hidden_channels = (64, 128), hidden_neurons = (512, 512))\n",
    "optimizer = torch.optim.Adam(model.parameters(), lr = 0.001)\n",
    "criterion = nn.CrossEntropyLoss()\n",
    "\n",
    "root = '../Result/NN opt'\n",
    "best_model_file = os.path.join(root, 'model.pt')\n",
    "losses_file = os.path.join(root, 'losses.pt')\n",
    "train_errors_file = os.path.join(root, 'train_errors.pt')\n",
    "test_errors_file = os.path.join(root, 'test_errors.pt')\n",
    "\n",
    "losses, train_errors_opt, test_errors_opt = \\\n",
    "    train(model, optimizer, criterion, train_loader, test_loader, device = device,\n",
    "          wrap_tqdms = False, print_errors = True,\n",
    "          best_model_file = best_model_file, losses_file = losses_file,\n",
    "          train_errors_file = train_errors_file, test_errors_file = test_errors_file)"
   ]
  },
  {
   "cell_type": "code",
   "execution_count": null,
   "id": "2b826367",
   "metadata": {
    "pycharm": {
     "name": "#%%\n"
    }
   },
   "outputs": [],
   "source": [
    "plt.plot(train_errors_opt, '-+')\n",
    "plt.plot(test_errors_opt, '-+')\n",
    "plt.xticks(range(0, 21, 2))\n",
    "plt.legend(['train', 'test'])\n",
    "plt.xlabel('epoch')\n",
    "plt.ylabel('error')\n",
    "plt.title('error on training and testing set')\n",
    "\n",
    "fig_file = os.path.join(root, 'figure.png')\n",
    "plt.savefig(fig_file)\n",
    "\n",
    "plt.show()"
   ]
  },
  {
   "cell_type": "markdown",
   "source": [
    "# VGG网络"
   ],
   "metadata": {
    "collapsed": false
   }
  },
  {
   "cell_type": "code",
   "execution_count": 123,
   "outputs": [
    {
     "name": "stdout",
     "output_type": "stream",
     "text": [
      "lr = 0.001\n"
     ]
    },
    {
     "name": "stderr",
     "output_type": "stream",
     "text": [
      "Epoch:  1/20: 100%|██████████| 391/391 [13:07<00:00,  2.01s/batch]\n",
      "Epoch:  1/20: 100%|██████████| 391/391 [03:37<00:00,  1.79batch/s]\n",
      "Epoch:  1/20: 100%|██████████| 79/79 [00:49<00:00,  1.59batch/s]\n"
     ]
    },
    {
     "name": "stdout",
     "output_type": "stream",
     "text": [
      "Epoch:  1\tTrain Error: 0.62596\tTest Error: 0.62720\n"
     ]
    },
    {
     "name": "stderr",
     "output_type": "stream",
     "text": [
      "Epoch:  2/20: 100%|██████████| 391/391 [12:32<00:00,  1.93s/batch]\n",
      "Epoch:  2/20: 100%|██████████| 391/391 [03:35<00:00,  1.81batch/s]\n",
      "Epoch:  2/20: 100%|██████████| 79/79 [01:00<00:00,  1.30batch/s]\n"
     ]
    },
    {
     "name": "stdout",
     "output_type": "stream",
     "text": [
      "Epoch:  2\tTrain Error: 0.47468\tTest Error: 0.48990\n"
     ]
    },
    {
     "name": "stderr",
     "output_type": "stream",
     "text": [
      "Epoch:  3/20: 100%|██████████| 391/391 [12:59<00:00,  1.99s/batch]\n",
      "Epoch:  3/20: 100%|██████████| 391/391 [03:55<00:00,  1.66batch/s]\n",
      "Epoch:  3/20: 100%|██████████| 79/79 [00:48<00:00,  1.62batch/s]\n"
     ]
    },
    {
     "name": "stdout",
     "output_type": "stream",
     "text": [
      "Epoch:  3\tTrain Error: 0.37530\tTest Error: 0.39950\n"
     ]
    },
    {
     "name": "stderr",
     "output_type": "stream",
     "text": [
      "Epoch:  4/20: 100%|██████████| 391/391 [13:12<00:00,  2.03s/batch]\n",
      "Epoch:  4/20: 100%|██████████| 391/391 [04:13<00:00,  1.54batch/s]\n",
      "Epoch:  4/20: 100%|██████████| 79/79 [01:00<00:00,  1.30batch/s]\n"
     ]
    },
    {
     "name": "stdout",
     "output_type": "stream",
     "text": [
      "Epoch:  4\tTrain Error: 0.30106\tTest Error: 0.34020\n"
     ]
    },
    {
     "name": "stderr",
     "output_type": "stream",
     "text": [
      "Epoch:  5/20: 100%|██████████| 391/391 [13:42<00:00,  2.10s/batch]\n",
      "Epoch:  5/20: 100%|██████████| 391/391 [03:38<00:00,  1.79batch/s]\n",
      "Epoch:  5/20: 100%|██████████| 79/79 [00:45<00:00,  1.75batch/s]\n"
     ]
    },
    {
     "name": "stdout",
     "output_type": "stream",
     "text": [
      "Epoch:  5\tTrain Error: 0.26238\tTest Error: 0.31250\n"
     ]
    },
    {
     "name": "stderr",
     "output_type": "stream",
     "text": [
      "Epoch:  6/20: 100%|██████████| 391/391 [13:30<00:00,  2.07s/batch]\n",
      "Epoch:  6/20: 100%|██████████| 391/391 [03:36<00:00,  1.81batch/s]\n",
      "Epoch:  6/20: 100%|██████████| 79/79 [00:51<00:00,  1.53batch/s]\n"
     ]
    },
    {
     "name": "stdout",
     "output_type": "stream",
     "text": [
      "Epoch:  6\tTrain Error: 0.22708\tTest Error: 0.29220\n"
     ]
    },
    {
     "name": "stderr",
     "output_type": "stream",
     "text": [
      "Epoch:  7/20: 100%|██████████| 391/391 [13:27<00:00,  2.06s/batch]\n",
      "Epoch:  7/20: 100%|██████████| 391/391 [03:36<00:00,  1.81batch/s]\n",
      "Epoch:  7/20: 100%|██████████| 79/79 [00:45<00:00,  1.72batch/s]\n"
     ]
    },
    {
     "name": "stdout",
     "output_type": "stream",
     "text": [
      "Epoch:  7\tTrain Error: 0.19056\tTest Error: 0.27460\n"
     ]
    },
    {
     "name": "stderr",
     "output_type": "stream",
     "text": [
      "Epoch:  8/20: 100%|██████████| 391/391 [13:06<00:00,  2.01s/batch]\n",
      "Epoch:  8/20: 100%|██████████| 391/391 [04:00<00:00,  1.63batch/s]\n",
      "Epoch:  8/20: 100%|██████████| 79/79 [00:51<00:00,  1.53batch/s]\n"
     ]
    },
    {
     "name": "stdout",
     "output_type": "stream",
     "text": [
      "Epoch:  8\tTrain Error: 0.14792\tTest Error: 0.25680\n"
     ]
    },
    {
     "name": "stderr",
     "output_type": "stream",
     "text": [
      "Epoch:  9/20: 100%|██████████| 391/391 [13:51<00:00,  2.13s/batch]\n",
      "Epoch:  9/20: 100%|██████████| 391/391 [03:37<00:00,  1.80batch/s]\n",
      "Epoch:  9/20: 100%|██████████| 79/79 [00:45<00:00,  1.72batch/s]\n"
     ]
    },
    {
     "name": "stdout",
     "output_type": "stream",
     "text": [
      "Epoch:  9\tTrain Error: 0.13266\tTest Error: 0.26490\n"
     ]
    },
    {
     "name": "stderr",
     "output_type": "stream",
     "text": [
      "Epoch: 10/20: 100%|██████████| 391/391 [12:45<00:00,  1.96s/batch]\n",
      "Epoch: 10/20: 100%|██████████| 391/391 [03:36<00:00,  1.81batch/s]\n",
      "Epoch: 10/20: 100%|██████████| 79/79 [00:54<00:00,  1.46batch/s]\n"
     ]
    },
    {
     "name": "stdout",
     "output_type": "stream",
     "text": [
      "Epoch: 10\tTrain Error: 0.11830\tTest Error: 0.26190\n"
     ]
    },
    {
     "name": "stderr",
     "output_type": "stream",
     "text": [
      "Epoch: 11/20: 100%|██████████| 391/391 [13:18<00:00,  2.04s/batch]\n",
      "Epoch: 11/20: 100%|██████████| 391/391 [03:53<00:00,  1.67batch/s]\n",
      "Epoch: 11/20: 100%|██████████| 79/79 [00:47<00:00,  1.66batch/s]\n"
     ]
    },
    {
     "name": "stdout",
     "output_type": "stream",
     "text": [
      "Epoch: 11\tTrain Error: 0.09718\tTest Error: 0.26540\n"
     ]
    },
    {
     "name": "stderr",
     "output_type": "stream",
     "text": [
      "Epoch: 12/20: 100%|██████████| 391/391 [13:18<00:00,  2.04s/batch]\n",
      "Epoch: 12/20: 100%|██████████| 391/391 [03:42<00:00,  1.76batch/s]\n",
      "Epoch: 12/20: 100%|██████████| 79/79 [00:54<00:00,  1.45batch/s]\n"
     ]
    },
    {
     "name": "stdout",
     "output_type": "stream",
     "text": [
      "Epoch: 12\tTrain Error: 0.07026\tTest Error: 0.25520\n"
     ]
    },
    {
     "name": "stderr",
     "output_type": "stream",
     "text": [
      "Epoch: 13/20: 100%|██████████| 391/391 [13:09<00:00,  2.02s/batch]\n",
      "Epoch: 13/20: 100%|██████████| 391/391 [03:49<00:00,  1.70batch/s]\n",
      "Epoch: 13/20: 100%|██████████| 79/79 [00:48<00:00,  1.62batch/s]\n"
     ]
    },
    {
     "name": "stdout",
     "output_type": "stream",
     "text": [
      "Epoch: 13\tTrain Error: 0.06464\tTest Error: 0.25950\n"
     ]
    },
    {
     "name": "stderr",
     "output_type": "stream",
     "text": [
      "Epoch: 14/20: 100%|██████████| 391/391 [12:57<00:00,  1.99s/batch]\n",
      "Epoch: 14/20: 100%|██████████| 391/391 [03:30<00:00,  1.86batch/s]\n",
      "Epoch: 14/20: 100%|██████████| 79/79 [00:47<00:00,  1.65batch/s]\n"
     ]
    },
    {
     "name": "stdout",
     "output_type": "stream",
     "text": [
      "Epoch: 14\tTrain Error: 0.06680\tTest Error: 0.25970\n"
     ]
    },
    {
     "name": "stderr",
     "output_type": "stream",
     "text": [
      "Epoch: 15/20: 100%|██████████| 391/391 [12:40<00:00,  1.95s/batch]\n",
      "Epoch: 15/20: 100%|██████████| 391/391 [03:36<00:00,  1.80batch/s]\n",
      "Epoch: 15/20: 100%|██████████| 79/79 [00:45<00:00,  1.73batch/s]\n"
     ]
    },
    {
     "name": "stdout",
     "output_type": "stream",
     "text": [
      "Epoch: 15\tTrain Error: 0.04408\tTest Error: 0.25210\n"
     ]
    },
    {
     "name": "stderr",
     "output_type": "stream",
     "text": [
      "Epoch: 16/20: 100%|██████████| 391/391 [12:26<00:00,  1.91s/batch]\n",
      "Epoch: 16/20: 100%|██████████| 391/391 [03:32<00:00,  1.84batch/s]\n",
      "Epoch: 16/20: 100%|██████████| 79/79 [00:46<00:00,  1.72batch/s]\n"
     ]
    },
    {
     "name": "stdout",
     "output_type": "stream",
     "text": [
      "Epoch: 16\tTrain Error: 0.05188\tTest Error: 0.26190\n"
     ]
    },
    {
     "name": "stderr",
     "output_type": "stream",
     "text": [
      "Epoch: 17/20: 100%|██████████| 391/391 [12:27<00:00,  1.91s/batch]\n",
      "Epoch: 17/20: 100%|██████████| 391/391 [03:58<00:00,  1.64batch/s]\n",
      "Epoch: 17/20: 100%|██████████| 79/79 [00:54<00:00,  1.46batch/s]\n"
     ]
    },
    {
     "name": "stdout",
     "output_type": "stream",
     "text": [
      "Epoch: 17\tTrain Error: 0.03200\tTest Error: 0.25690\n"
     ]
    },
    {
     "name": "stderr",
     "output_type": "stream",
     "text": [
      "Epoch: 18/20: 100%|██████████| 391/391 [13:18<00:00,  2.04s/batch]\n",
      "Epoch: 18/20: 100%|██████████| 391/391 [03:51<00:00,  1.69batch/s]\n",
      "Epoch: 18/20: 100%|██████████| 79/79 [00:48<00:00,  1.62batch/s]\n"
     ]
    },
    {
     "name": "stdout",
     "output_type": "stream",
     "text": [
      "Epoch: 18\tTrain Error: 0.03468\tTest Error: 0.25460\n"
     ]
    },
    {
     "name": "stderr",
     "output_type": "stream",
     "text": [
      "Epoch: 19/20: 100%|██████████| 391/391 [13:19<00:00,  2.04s/batch]\n",
      "Epoch: 19/20: 100%|██████████| 391/391 [03:31<00:00,  1.85batch/s]\n",
      "Epoch: 19/20: 100%|██████████| 79/79 [00:44<00:00,  1.77batch/s]\n"
     ]
    },
    {
     "name": "stdout",
     "output_type": "stream",
     "text": [
      "Epoch: 19\tTrain Error: 0.02462\tTest Error: 0.25530\n"
     ]
    },
    {
     "name": "stderr",
     "output_type": "stream",
     "text": [
      "Epoch: 20/20: 100%|██████████| 391/391 [11:55<00:00,  1.83s/batch]\n",
      "Epoch: 20/20: 100%|██████████| 391/391 [03:24<00:00,  1.91batch/s]\n",
      "Epoch: 20/20: 100%|██████████| 79/79 [00:44<00:00,  1.78batch/s]\n"
     ]
    },
    {
     "name": "stdout",
     "output_type": "stream",
     "text": [
      "Epoch: 20\tTrain Error: 0.02586\tTest Error: 0.25190\n",
      "\n",
      "lr = 0.002\n"
     ]
    },
    {
     "name": "stderr",
     "output_type": "stream",
     "text": [
      "Epoch:  1/20: 100%|██████████| 391/391 [11:14<00:00,  1.72s/batch]\n",
      "Epoch:  1/20: 100%|██████████| 391/391 [03:32<00:00,  1.84batch/s]\n",
      "Epoch:  1/20: 100%|██████████| 79/79 [00:45<00:00,  1.72batch/s]\n"
     ]
    },
    {
     "name": "stdout",
     "output_type": "stream",
     "text": [
      "Epoch:  1\tTrain Error: 0.69588\tTest Error: 0.69650\n"
     ]
    },
    {
     "name": "stderr",
     "output_type": "stream",
     "text": [
      "Epoch:  2/20: 100%|██████████| 391/391 [11:46<00:00,  1.81s/batch]\n",
      "Epoch:  2/20: 100%|██████████| 391/391 [03:34<00:00,  1.82batch/s]\n",
      "Epoch:  2/20: 100%|██████████| 79/79 [00:45<00:00,  1.72batch/s]\n"
     ]
    },
    {
     "name": "stdout",
     "output_type": "stream",
     "text": [
      "Epoch:  2\tTrain Error: 0.56180\tTest Error: 0.56510\n"
     ]
    },
    {
     "name": "stderr",
     "output_type": "stream",
     "text": [
      "Epoch:  3/20: 100%|██████████| 391/391 [12:35<00:00,  1.93s/batch]\n",
      "Epoch:  3/20: 100%|██████████| 391/391 [03:49<00:00,  1.70batch/s]\n",
      "Epoch:  3/20: 100%|██████████| 79/79 [00:58<00:00,  1.35batch/s]\n"
     ]
    },
    {
     "name": "stdout",
     "output_type": "stream",
     "text": [
      "Epoch:  3\tTrain Error: 0.47566\tTest Error: 0.49010\n"
     ]
    },
    {
     "name": "stderr",
     "output_type": "stream",
     "text": [
      "Epoch:  4/20: 100%|██████████| 391/391 [13:25<00:00,  2.06s/batch]\n",
      "Epoch:  4/20: 100%|██████████| 391/391 [03:47<00:00,  1.72batch/s]\n",
      "Epoch:  4/20: 100%|██████████| 79/79 [00:48<00:00,  1.61batch/s]\n"
     ]
    },
    {
     "name": "stdout",
     "output_type": "stream",
     "text": [
      "Epoch:  4\tTrain Error: 0.40008\tTest Error: 0.42130\n"
     ]
    },
    {
     "name": "stderr",
     "output_type": "stream",
     "text": [
      "Epoch:  5/20: 100%|██████████| 391/391 [13:30<00:00,  2.07s/batch]\n",
      "Epoch:  5/20: 100%|██████████| 391/391 [03:43<00:00,  1.75batch/s]\n",
      "Epoch:  5/20: 100%|██████████| 79/79 [00:48<00:00,  1.61batch/s]\n"
     ]
    },
    {
     "name": "stdout",
     "output_type": "stream",
     "text": [
      "Epoch:  5\tTrain Error: 0.35504\tTest Error: 0.37950\n"
     ]
    },
    {
     "name": "stderr",
     "output_type": "stream",
     "text": [
      "Epoch:  6/20: 100%|██████████| 391/391 [12:48<00:00,  1.97s/batch]\n",
      "Epoch:  6/20: 100%|██████████| 391/391 [03:45<00:00,  1.73batch/s]\n",
      "Epoch:  6/20: 100%|██████████| 79/79 [00:54<00:00,  1.45batch/s]\n"
     ]
    },
    {
     "name": "stdout",
     "output_type": "stream",
     "text": [
      "Epoch:  6\tTrain Error: 0.33380\tTest Error: 0.37010\n"
     ]
    },
    {
     "name": "stderr",
     "output_type": "stream",
     "text": [
      "Epoch:  7/20: 100%|██████████| 391/391 [12:37<00:00,  1.94s/batch]\n",
      "Epoch:  7/20: 100%|██████████| 391/391 [03:33<00:00,  1.83batch/s]\n",
      "Epoch:  7/20: 100%|██████████| 79/79 [00:46<00:00,  1.71batch/s]\n"
     ]
    },
    {
     "name": "stdout",
     "output_type": "stream",
     "text": [
      "Epoch:  7\tTrain Error: 0.31358\tTest Error: 0.35810\n"
     ]
    },
    {
     "name": "stderr",
     "output_type": "stream",
     "text": [
      "Epoch:  8/20: 100%|██████████| 391/391 [12:24<00:00,  1.90s/batch]\n",
      "Epoch:  8/20: 100%|██████████| 391/391 [03:36<00:00,  1.81batch/s]\n",
      "Epoch:  8/20: 100%|██████████| 79/79 [01:16<00:00,  1.03batch/s]\n"
     ]
    },
    {
     "name": "stdout",
     "output_type": "stream",
     "text": [
      "Epoch:  8\tTrain Error: 0.27754\tTest Error: 0.33410\n"
     ]
    },
    {
     "name": "stderr",
     "output_type": "stream",
     "text": [
      "Epoch:  9/20: 100%|██████████| 391/391 [13:02<00:00,  2.00s/batch]\n",
      "Epoch:  9/20: 100%|██████████| 391/391 [03:41<00:00,  1.77batch/s]\n",
      "Epoch:  9/20: 100%|██████████| 79/79 [00:46<00:00,  1.70batch/s]\n"
     ]
    },
    {
     "name": "stdout",
     "output_type": "stream",
     "text": [
      "Epoch:  9\tTrain Error: 0.27982\tTest Error: 0.34750\n"
     ]
    },
    {
     "name": "stderr",
     "output_type": "stream",
     "text": [
      "Epoch: 10/20: 100%|██████████| 391/391 [12:53<00:00,  1.98s/batch]\n",
      "Epoch: 10/20: 100%|██████████| 391/391 [03:49<00:00,  1.70batch/s]\n",
      "Epoch: 10/20: 100%|██████████| 79/79 [00:49<00:00,  1.61batch/s]\n"
     ]
    },
    {
     "name": "stdout",
     "output_type": "stream",
     "text": [
      "Epoch: 10\tTrain Error: 0.27142\tTest Error: 0.34490\n"
     ]
    },
    {
     "name": "stderr",
     "output_type": "stream",
     "text": [
      "Epoch: 11/20: 100%|██████████| 391/391 [13:22<00:00,  2.05s/batch]\n",
      "Epoch: 11/20: 100%|██████████| 391/391 [03:42<00:00,  1.76batch/s]\n",
      "Epoch: 11/20: 100%|██████████| 79/79 [00:47<00:00,  1.65batch/s]\n"
     ]
    },
    {
     "name": "stdout",
     "output_type": "stream",
     "text": [
      "Epoch: 11\tTrain Error: 0.24464\tTest Error: 0.33170\n"
     ]
    },
    {
     "name": "stderr",
     "output_type": "stream",
     "text": [
      "Epoch: 12/20: 100%|██████████| 391/391 [12:46<00:00,  1.96s/batch]\n",
      "Epoch: 12/20: 100%|██████████| 391/391 [03:33<00:00,  1.83batch/s]\n",
      "Epoch: 12/20: 100%|██████████| 79/79 [00:46<00:00,  1.70batch/s]\n"
     ]
    },
    {
     "name": "stdout",
     "output_type": "stream",
     "text": [
      "Epoch: 12\tTrain Error: 0.21726\tTest Error: 0.32060\n"
     ]
    },
    {
     "name": "stderr",
     "output_type": "stream",
     "text": [
      "Epoch: 13/20: 100%|██████████| 391/391 [12:36<00:00,  1.94s/batch]\n",
      "Epoch: 13/20: 100%|██████████| 391/391 [03:37<00:00,  1.80batch/s]\n",
      "Epoch: 13/20: 100%|██████████| 79/79 [00:47<00:00,  1.65batch/s]\n"
     ]
    },
    {
     "name": "stdout",
     "output_type": "stream",
     "text": [
      "Epoch: 13\tTrain Error: 0.19102\tTest Error: 0.31640\n"
     ]
    },
    {
     "name": "stderr",
     "output_type": "stream",
     "text": [
      "Epoch: 14/20: 100%|██████████| 391/391 [12:11<00:00,  1.87s/batch]\n",
      "Epoch: 14/20: 100%|██████████| 391/391 [03:31<00:00,  1.85batch/s]\n",
      "Epoch: 14/20: 100%|██████████| 79/79 [00:45<00:00,  1.73batch/s]\n"
     ]
    },
    {
     "name": "stdout",
     "output_type": "stream",
     "text": [
      "Epoch: 14\tTrain Error: 0.18338\tTest Error: 0.31850\n"
     ]
    },
    {
     "name": "stderr",
     "output_type": "stream",
     "text": [
      "Epoch: 15/20: 100%|██████████| 391/391 [11:58<00:00,  1.84s/batch]\n",
      "Epoch: 15/20: 100%|██████████| 391/391 [03:28<00:00,  1.88batch/s]\n",
      "Epoch: 15/20: 100%|██████████| 79/79 [00:45<00:00,  1.74batch/s]\n"
     ]
    },
    {
     "name": "stdout",
     "output_type": "stream",
     "text": [
      "Epoch: 15\tTrain Error: 0.16458\tTest Error: 0.31620\n"
     ]
    },
    {
     "name": "stderr",
     "output_type": "stream",
     "text": [
      "Epoch: 16/20: 100%|██████████| 391/391 [12:02<00:00,  1.85s/batch]\n",
      "Epoch: 16/20: 100%|██████████| 391/391 [03:29<00:00,  1.87batch/s]\n",
      "Epoch: 16/20: 100%|██████████| 79/79 [00:45<00:00,  1.75batch/s]\n"
     ]
    },
    {
     "name": "stdout",
     "output_type": "stream",
     "text": [
      "Epoch: 16\tTrain Error: 0.16852\tTest Error: 0.31760\n"
     ]
    },
    {
     "name": "stderr",
     "output_type": "stream",
     "text": [
      "Epoch: 17/20: 100%|██████████| 391/391 [12:03<00:00,  1.85s/batch]\n",
      "Epoch: 17/20: 100%|██████████| 391/391 [03:29<00:00,  1.86batch/s]\n",
      "Epoch: 17/20: 100%|██████████| 79/79 [00:45<00:00,  1.74batch/s]\n"
     ]
    },
    {
     "name": "stdout",
     "output_type": "stream",
     "text": [
      "Epoch: 17\tTrain Error: 0.15250\tTest Error: 0.32200\n"
     ]
    },
    {
     "name": "stderr",
     "output_type": "stream",
     "text": [
      "Epoch: 18/20: 100%|██████████| 391/391 [12:15<00:00,  1.88s/batch]\n",
      "Epoch: 18/20: 100%|██████████| 391/391 [03:36<00:00,  1.81batch/s]\n",
      "Epoch: 18/20: 100%|██████████| 79/79 [00:47<00:00,  1.67batch/s]\n"
     ]
    },
    {
     "name": "stdout",
     "output_type": "stream",
     "text": [
      "Epoch: 18\tTrain Error: 0.13042\tTest Error: 0.30960\n"
     ]
    },
    {
     "name": "stderr",
     "output_type": "stream",
     "text": [
      "Epoch: 19/20: 100%|██████████| 391/391 [12:17<00:00,  1.89s/batch]\n",
      "Epoch: 19/20: 100%|██████████| 391/391 [03:32<00:00,  1.84batch/s]\n",
      "Epoch: 19/20: 100%|██████████| 79/79 [00:47<00:00,  1.65batch/s]\n"
     ]
    },
    {
     "name": "stdout",
     "output_type": "stream",
     "text": [
      "Epoch: 19\tTrain Error: 0.14256\tTest Error: 0.31670\n"
     ]
    },
    {
     "name": "stderr",
     "output_type": "stream",
     "text": [
      "Epoch: 20/20: 100%|██████████| 391/391 [12:09<00:00,  1.86s/batch]\n",
      "Epoch: 20/20: 100%|██████████| 391/391 [03:31<00:00,  1.84batch/s]\n",
      "Epoch: 20/20: 100%|██████████| 79/79 [00:48<00:00,  1.63batch/s]\n"
     ]
    },
    {
     "name": "stdout",
     "output_type": "stream",
     "text": [
      "Epoch: 20\tTrain Error: 0.11596\tTest Error: 0.31570\n",
      "\n",
      "lr = 0.0001\n"
     ]
    },
    {
     "name": "stderr",
     "output_type": "stream",
     "text": [
      "Epoch:  1/20: 100%|██████████| 391/391 [11:33<00:00,  1.77s/batch]\n",
      "Epoch:  1/20: 100%|██████████| 391/391 [03:38<00:00,  1.79batch/s]\n",
      "Epoch:  1/20: 100%|██████████| 79/79 [00:49<00:00,  1.61batch/s]\n"
     ]
    },
    {
     "name": "stdout",
     "output_type": "stream",
     "text": [
      "Epoch:  1\tTrain Error: 0.62446\tTest Error: 0.62290\n"
     ]
    },
    {
     "name": "stderr",
     "output_type": "stream",
     "text": [
      "Epoch:  2/20: 100%|██████████| 391/391 [11:40<00:00,  1.79s/batch]\n",
      "Epoch:  2/20: 100%|██████████| 391/391 [03:39<00:00,  1.79batch/s]\n",
      "Epoch:  2/20: 100%|██████████| 79/79 [00:49<00:00,  1.61batch/s]\n"
     ]
    },
    {
     "name": "stdout",
     "output_type": "stream",
     "text": [
      "Epoch:  2\tTrain Error: 0.54510\tTest Error: 0.54790\n"
     ]
    },
    {
     "name": "stderr",
     "output_type": "stream",
     "text": [
      "Epoch:  3/20: 100%|██████████| 391/391 [11:47<00:00,  1.81s/batch]\n",
      "Epoch:  3/20: 100%|██████████| 391/391 [03:39<00:00,  1.79batch/s]\n",
      "Epoch:  3/20: 100%|██████████| 79/79 [00:48<00:00,  1.61batch/s]\n"
     ]
    },
    {
     "name": "stdout",
     "output_type": "stream",
     "text": [
      "Epoch:  3\tTrain Error: 0.47042\tTest Error: 0.47880\n"
     ]
    },
    {
     "name": "stderr",
     "output_type": "stream",
     "text": [
      "Epoch:  4/20: 100%|██████████| 391/391 [11:50<00:00,  1.82s/batch]\n",
      "Epoch:  4/20: 100%|██████████| 391/391 [03:37<00:00,  1.80batch/s]\n",
      "Epoch:  4/20: 100%|██████████| 79/79 [00:48<00:00,  1.62batch/s]\n"
     ]
    },
    {
     "name": "stdout",
     "output_type": "stream",
     "text": [
      "Epoch:  4\tTrain Error: 0.44208\tTest Error: 0.45290\n"
     ]
    },
    {
     "name": "stderr",
     "output_type": "stream",
     "text": [
      "Epoch:  5/20: 100%|██████████| 391/391 [11:53<00:00,  1.82s/batch]\n",
      "Epoch:  5/20: 100%|██████████| 391/391 [03:35<00:00,  1.81batch/s]\n",
      "Epoch:  5/20: 100%|██████████| 79/79 [00:46<00:00,  1.69batch/s]\n"
     ]
    },
    {
     "name": "stdout",
     "output_type": "stream",
     "text": [
      "Epoch:  5\tTrain Error: 0.35442\tTest Error: 0.38050\n"
     ]
    },
    {
     "name": "stderr",
     "output_type": "stream",
     "text": [
      "Epoch:  6/20: 100%|██████████| 391/391 [11:52<00:00,  1.82s/batch]\n",
      "Epoch:  6/20: 100%|██████████| 391/391 [03:35<00:00,  1.81batch/s]\n",
      "Epoch:  6/20: 100%|██████████| 79/79 [00:46<00:00,  1.71batch/s]\n"
     ]
    },
    {
     "name": "stdout",
     "output_type": "stream",
     "text": [
      "Epoch:  6\tTrain Error: 0.32648\tTest Error: 0.35980\n"
     ]
    },
    {
     "name": "stderr",
     "output_type": "stream",
     "text": [
      "Epoch:  7/20: 100%|██████████| 391/391 [11:50<00:00,  1.82s/batch]\n",
      "Epoch:  7/20: 100%|██████████| 391/391 [03:34<00:00,  1.83batch/s]\n",
      "Epoch:  7/20: 100%|██████████| 79/79 [00:46<00:00,  1.70batch/s]\n"
     ]
    },
    {
     "name": "stdout",
     "output_type": "stream",
     "text": [
      "Epoch:  7\tTrain Error: 0.27510\tTest Error: 0.32320\n"
     ]
    },
    {
     "name": "stderr",
     "output_type": "stream",
     "text": [
      "Epoch:  8/20: 100%|██████████| 391/391 [11:50<00:00,  1.82s/batch]\n",
      "Epoch:  8/20: 100%|██████████| 391/391 [03:34<00:00,  1.82batch/s]\n",
      "Epoch:  8/20: 100%|██████████| 79/79 [00:46<00:00,  1.70batch/s]\n"
     ]
    },
    {
     "name": "stdout",
     "output_type": "stream",
     "text": [
      "Epoch:  8\tTrain Error: 0.25392\tTest Error: 0.31230\n"
     ]
    },
    {
     "name": "stderr",
     "output_type": "stream",
     "text": [
      "Epoch:  9/20: 100%|██████████| 391/391 [12:14<00:00,  1.88s/batch]\n",
      "Epoch:  9/20: 100%|██████████| 391/391 [03:35<00:00,  1.82batch/s]\n",
      "Epoch:  9/20: 100%|██████████| 79/79 [00:46<00:00,  1.71batch/s]\n"
     ]
    },
    {
     "name": "stdout",
     "output_type": "stream",
     "text": [
      "Epoch:  9\tTrain Error: 0.20854\tTest Error: 0.29070\n"
     ]
    },
    {
     "name": "stderr",
     "output_type": "stream",
     "text": [
      "Epoch: 10/20: 100%|██████████| 391/391 [11:53<00:00,  1.83s/batch]\n",
      "Epoch: 10/20: 100%|██████████| 391/391 [03:35<00:00,  1.81batch/s]\n",
      "Epoch: 10/20: 100%|██████████| 79/79 [00:46<00:00,  1.69batch/s]\n"
     ]
    },
    {
     "name": "stdout",
     "output_type": "stream",
     "text": [
      "Epoch: 10\tTrain Error: 0.17156\tTest Error: 0.27410\n"
     ]
    },
    {
     "name": "stderr",
     "output_type": "stream",
     "text": [
      "Epoch: 11/20: 100%|██████████| 391/391 [11:53<00:00,  1.83s/batch]\n",
      "Epoch: 11/20: 100%|██████████| 391/391 [03:35<00:00,  1.81batch/s]\n",
      "Epoch: 11/20: 100%|██████████| 79/79 [00:46<00:00,  1.69batch/s]\n"
     ]
    },
    {
     "name": "stdout",
     "output_type": "stream",
     "text": [
      "Epoch: 11\tTrain Error: 0.17398\tTest Error: 0.29290\n"
     ]
    },
    {
     "name": "stderr",
     "output_type": "stream",
     "text": [
      "Epoch: 12/20: 100%|██████████| 391/391 [11:54<00:00,  1.83s/batch]\n",
      "Epoch: 12/20: 100%|██████████| 391/391 [03:36<00:00,  1.81batch/s]\n",
      "Epoch: 12/20: 100%|██████████| 79/79 [00:46<00:00,  1.70batch/s]\n"
     ]
    },
    {
     "name": "stdout",
     "output_type": "stream",
     "text": [
      "Epoch: 12\tTrain Error: 0.11030\tTest Error: 0.26620\n"
     ]
    },
    {
     "name": "stderr",
     "output_type": "stream",
     "text": [
      "Epoch: 13/20: 100%|██████████| 391/391 [11:54<00:00,  1.83s/batch]\n",
      "Epoch: 13/20: 100%|██████████| 391/391 [03:36<00:00,  1.81batch/s]\n",
      "Epoch: 13/20: 100%|██████████| 79/79 [00:46<00:00,  1.70batch/s]\n"
     ]
    },
    {
     "name": "stdout",
     "output_type": "stream",
     "text": [
      "Epoch: 13\tTrain Error: 0.08412\tTest Error: 0.26430\n"
     ]
    },
    {
     "name": "stderr",
     "output_type": "stream",
     "text": [
      "Epoch: 14/20: 100%|██████████| 391/391 [11:49<00:00,  1.82s/batch]\n",
      "Epoch: 14/20: 100%|██████████| 391/391 [03:35<00:00,  1.81batch/s]\n",
      "Epoch: 14/20: 100%|██████████| 79/79 [00:45<00:00,  1.73batch/s]\n"
     ]
    },
    {
     "name": "stdout",
     "output_type": "stream",
     "text": [
      "Epoch: 14\tTrain Error: 0.07294\tTest Error: 0.26870\n"
     ]
    },
    {
     "name": "stderr",
     "output_type": "stream",
     "text": [
      "Epoch: 15/20: 100%|██████████| 391/391 [11:47<00:00,  1.81s/batch]\n",
      "Epoch: 15/20: 100%|██████████| 391/391 [03:37<00:00,  1.80batch/s]\n",
      "Epoch: 15/20: 100%|██████████| 79/79 [00:46<00:00,  1.70batch/s]\n"
     ]
    },
    {
     "name": "stdout",
     "output_type": "stream",
     "text": [
      "Epoch: 15\tTrain Error: 0.05020\tTest Error: 0.26810\n"
     ]
    },
    {
     "name": "stderr",
     "output_type": "stream",
     "text": [
      "Epoch: 16/20: 100%|██████████| 391/391 [11:46<00:00,  1.81s/batch]\n",
      "Epoch: 16/20: 100%|██████████| 391/391 [03:35<00:00,  1.82batch/s]\n",
      "Epoch: 16/20: 100%|██████████| 79/79 [00:46<00:00,  1.70batch/s]\n"
     ]
    },
    {
     "name": "stdout",
     "output_type": "stream",
     "text": [
      "Epoch: 16\tTrain Error: 0.06502\tTest Error: 0.29070\n"
     ]
    },
    {
     "name": "stderr",
     "output_type": "stream",
     "text": [
      "Epoch: 17/20: 100%|██████████| 391/391 [11:49<00:00,  1.81s/batch]\n",
      "Epoch: 17/20: 100%|██████████| 391/391 [03:36<00:00,  1.81batch/s]\n",
      "Epoch: 17/20: 100%|██████████| 79/79 [00:46<00:00,  1.71batch/s]\n"
     ]
    },
    {
     "name": "stdout",
     "output_type": "stream",
     "text": [
      "Epoch: 17\tTrain Error: 0.03898\tTest Error: 0.27220\n"
     ]
    },
    {
     "name": "stderr",
     "output_type": "stream",
     "text": [
      "Epoch: 18/20: 100%|██████████| 391/391 [11:49<00:00,  1.82s/batch]\n",
      "Epoch: 18/20: 100%|██████████| 391/391 [03:34<00:00,  1.82batch/s]\n",
      "Epoch: 18/20: 100%|██████████| 79/79 [00:46<00:00,  1.70batch/s]\n"
     ]
    },
    {
     "name": "stdout",
     "output_type": "stream",
     "text": [
      "Epoch: 18\tTrain Error: 0.02060\tTest Error: 0.25610\n"
     ]
    },
    {
     "name": "stderr",
     "output_type": "stream",
     "text": [
      "Epoch: 19/20: 100%|██████████| 391/391 [11:51<00:00,  1.82s/batch]\n",
      "Epoch: 19/20: 100%|██████████| 391/391 [03:35<00:00,  1.81batch/s]\n",
      "Epoch: 19/20: 100%|██████████| 79/79 [00:46<00:00,  1.71batch/s]\n"
     ]
    },
    {
     "name": "stdout",
     "output_type": "stream",
     "text": [
      "Epoch: 19\tTrain Error: 0.02102\tTest Error: 0.25580\n"
     ]
    },
    {
     "name": "stderr",
     "output_type": "stream",
     "text": [
      "Epoch: 20/20: 100%|██████████| 391/391 [11:51<00:00,  1.82s/batch]\n",
      "Epoch: 20/20: 100%|██████████| 391/391 [03:37<00:00,  1.80batch/s]\n",
      "Epoch: 20/20: 100%|██████████| 79/79 [00:46<00:00,  1.68batch/s]\n"
     ]
    },
    {
     "name": "stdout",
     "output_type": "stream",
     "text": [
      "Epoch: 20\tTrain Error: 0.03014\tTest Error: 0.26140\n",
      "\n",
      "lr = 0.0005\n"
     ]
    },
    {
     "name": "stderr",
     "output_type": "stream",
     "text": [
      "Epoch:  1/20: 100%|██████████| 391/391 [11:19<00:00,  1.74s/batch]\n",
      "Epoch:  1/20: 100%|██████████| 391/391 [03:33<00:00,  1.83batch/s]\n",
      "Epoch:  1/20: 100%|██████████| 79/79 [00:46<00:00,  1.71batch/s]\n"
     ]
    },
    {
     "name": "stdout",
     "output_type": "stream",
     "text": [
      "Epoch:  1\tTrain Error: 0.68174\tTest Error: 0.68370\n"
     ]
    },
    {
     "name": "stderr",
     "output_type": "stream",
     "text": [
      "Epoch:  2/20: 100%|██████████| 391/391 [11:33<00:00,  1.77s/batch]\n",
      "Epoch:  2/20: 100%|██████████| 391/391 [03:33<00:00,  1.83batch/s]\n",
      "Epoch:  2/20: 100%|██████████| 79/79 [00:46<00:00,  1.71batch/s]\n"
     ]
    },
    {
     "name": "stdout",
     "output_type": "stream",
     "text": [
      "Epoch:  2\tTrain Error: 0.44440\tTest Error: 0.45610\n"
     ]
    },
    {
     "name": "stderr",
     "output_type": "stream",
     "text": [
      "Epoch:  3/20: 100%|██████████| 391/391 [11:56<00:00,  1.83s/batch]\n",
      "Epoch:  3/20: 100%|██████████| 391/391 [03:33<00:00,  1.83batch/s]\n",
      "Epoch:  3/20: 100%|██████████| 79/79 [00:46<00:00,  1.71batch/s]\n"
     ]
    },
    {
     "name": "stdout",
     "output_type": "stream",
     "text": [
      "Epoch:  3\tTrain Error: 0.33468\tTest Error: 0.36830\n"
     ]
    },
    {
     "name": "stderr",
     "output_type": "stream",
     "text": [
      "Epoch:  4/20: 100%|██████████| 391/391 [12:01<00:00,  1.84s/batch]\n",
      "Epoch:  4/20: 100%|██████████| 391/391 [03:32<00:00,  1.84batch/s]\n",
      "Epoch:  4/20: 100%|██████████| 79/79 [00:46<00:00,  1.71batch/s]\n"
     ]
    },
    {
     "name": "stdout",
     "output_type": "stream",
     "text": [
      "Epoch:  4\tTrain Error: 0.26424\tTest Error: 0.31690\n"
     ]
    },
    {
     "name": "stderr",
     "output_type": "stream",
     "text": [
      "Epoch:  5/20: 100%|██████████| 391/391 [12:15<00:00,  1.88s/batch]\n",
      "Epoch:  5/20: 100%|██████████| 391/391 [03:36<00:00,  1.81batch/s]\n",
      "Epoch:  5/20: 100%|██████████| 79/79 [00:47<00:00,  1.68batch/s]\n"
     ]
    },
    {
     "name": "stdout",
     "output_type": "stream",
     "text": [
      "Epoch:  5\tTrain Error: 0.21600\tTest Error: 0.28910\n"
     ]
    },
    {
     "name": "stderr",
     "output_type": "stream",
     "text": [
      "Epoch:  6/20: 100%|██████████| 391/391 [12:06<00:00,  1.86s/batch]\n",
      "Epoch:  6/20: 100%|██████████| 391/391 [03:25<00:00,  1.90batch/s]\n",
      "Epoch:  6/20: 100%|██████████| 79/79 [00:44<00:00,  1.77batch/s]\n"
     ]
    },
    {
     "name": "stdout",
     "output_type": "stream",
     "text": [
      "Epoch:  6\tTrain Error: 0.16750\tTest Error: 0.26490\n"
     ]
    },
    {
     "name": "stderr",
     "output_type": "stream",
     "text": [
      "Epoch:  7/20: 100%|██████████| 391/391 [12:05<00:00,  1.86s/batch]\n",
      "Epoch:  7/20: 100%|██████████| 391/391 [03:42<00:00,  1.76batch/s]\n",
      "Epoch:  7/20: 100%|██████████| 79/79 [00:48<00:00,  1.63batch/s]\n"
     ]
    },
    {
     "name": "stdout",
     "output_type": "stream",
     "text": [
      "Epoch:  7\tTrain Error: 0.11210\tTest Error: 0.24920\n"
     ]
    },
    {
     "name": "stderr",
     "output_type": "stream",
     "text": [
      "Epoch:  8/20: 100%|██████████| 391/391 [13:39<00:00,  2.10s/batch]\n",
      "Epoch:  8/20: 100%|██████████| 391/391 [04:02<00:00,  1.61batch/s]\n",
      "Epoch:  8/20: 100%|██████████| 79/79 [00:48<00:00,  1.63batch/s]\n"
     ]
    },
    {
     "name": "stdout",
     "output_type": "stream",
     "text": [
      "Epoch:  8\tTrain Error: 0.07856\tTest Error: 0.24650\n"
     ]
    },
    {
     "name": "stderr",
     "output_type": "stream",
     "text": [
      "Epoch:  9/20: 100%|██████████| 391/391 [12:43<00:00,  1.95s/batch]\n",
      "Epoch:  9/20: 100%|██████████| 391/391 [04:13<00:00,  1.54batch/s]\n",
      "Epoch:  9/20: 100%|██████████| 79/79 [00:53<00:00,  1.47batch/s]\n"
     ]
    },
    {
     "name": "stdout",
     "output_type": "stream",
     "text": [
      "Epoch:  9\tTrain Error: 0.06030\tTest Error: 0.24710\n"
     ]
    },
    {
     "name": "stderr",
     "output_type": "stream",
     "text": [
      "Epoch: 10/20: 100%|██████████| 391/391 [12:47<00:00,  1.96s/batch]\n",
      "Epoch: 10/20: 100%|██████████| 391/391 [03:55<00:00,  1.66batch/s]\n",
      "Epoch: 10/20: 100%|██████████| 79/79 [00:49<00:00,  1.60batch/s]\n"
     ]
    },
    {
     "name": "stdout",
     "output_type": "stream",
     "text": [
      "Epoch: 10\tTrain Error: 0.04944\tTest Error: 0.25400\n"
     ]
    },
    {
     "name": "stderr",
     "output_type": "stream",
     "text": [
      "Epoch: 11/20: 100%|██████████| 391/391 [12:36<00:00,  1.93s/batch]\n",
      "Epoch: 11/20: 100%|██████████| 391/391 [03:38<00:00,  1.79batch/s]\n",
      "Epoch: 11/20: 100%|██████████| 79/79 [00:46<00:00,  1.69batch/s]\n"
     ]
    },
    {
     "name": "stdout",
     "output_type": "stream",
     "text": [
      "Epoch: 11\tTrain Error: 0.04286\tTest Error: 0.24560\n"
     ]
    },
    {
     "name": "stderr",
     "output_type": "stream",
     "text": [
      "Epoch: 12/20: 100%|██████████| 391/391 [12:51<00:00,  1.97s/batch]\n",
      "Epoch: 12/20: 100%|██████████| 391/391 [03:43<00:00,  1.75batch/s]\n",
      "Epoch: 12/20: 100%|██████████| 79/79 [00:46<00:00,  1.71batch/s]\n"
     ]
    },
    {
     "name": "stdout",
     "output_type": "stream",
     "text": [
      "Epoch: 12\tTrain Error: 0.03116\tTest Error: 0.24920\n"
     ]
    },
    {
     "name": "stderr",
     "output_type": "stream",
     "text": [
      "Epoch: 13/20: 100%|██████████| 391/391 [14:45<00:00,  2.27s/batch]\n",
      "Epoch: 13/20: 100%|██████████| 391/391 [04:03<00:00,  1.61batch/s]\n",
      "Epoch: 13/20: 100%|██████████| 79/79 [01:11<00:00,  1.10batch/s]\n"
     ]
    },
    {
     "name": "stdout",
     "output_type": "stream",
     "text": [
      "Epoch: 13\tTrain Error: 0.02404\tTest Error: 0.24200\n"
     ]
    },
    {
     "name": "stderr",
     "output_type": "stream",
     "text": [
      "Epoch: 14/20: 100%|██████████| 391/391 [13:15<00:00,  2.03s/batch]\n",
      "Epoch: 14/20: 100%|██████████| 391/391 [03:50<00:00,  1.70batch/s]\n",
      "Epoch: 14/20: 100%|██████████| 79/79 [00:51<00:00,  1.55batch/s]\n"
     ]
    },
    {
     "name": "stdout",
     "output_type": "stream",
     "text": [
      "Epoch: 14\tTrain Error: 0.02326\tTest Error: 0.24920\n"
     ]
    },
    {
     "name": "stderr",
     "output_type": "stream",
     "text": [
      "Epoch: 15/20: 100%|██████████| 391/391 [12:55<00:00,  1.98s/batch]\n",
      "Epoch: 15/20: 100%|██████████| 391/391 [03:40<00:00,  1.78batch/s]\n",
      "Epoch: 15/20: 100%|██████████| 79/79 [00:48<00:00,  1.65batch/s]\n"
     ]
    },
    {
     "name": "stdout",
     "output_type": "stream",
     "text": [
      "Epoch: 15\tTrain Error: 0.02032\tTest Error: 0.24330\n"
     ]
    },
    {
     "name": "stderr",
     "output_type": "stream",
     "text": [
      "Epoch: 16/20: 100%|██████████| 391/391 [13:22<00:00,  2.05s/batch]\n",
      "Epoch: 16/20: 100%|██████████| 391/391 [03:39<00:00,  1.78batch/s]\n",
      "Epoch: 16/20: 100%|██████████| 79/79 [00:49<00:00,  1.59batch/s]\n"
     ]
    },
    {
     "name": "stdout",
     "output_type": "stream",
     "text": [
      "Epoch: 16\tTrain Error: 0.01544\tTest Error: 0.23810\n"
     ]
    },
    {
     "name": "stderr",
     "output_type": "stream",
     "text": [
      "Epoch: 17/20: 100%|██████████| 391/391 [14:21<00:00,  2.20s/batch]\n",
      "Epoch: 17/20: 100%|██████████| 391/391 [03:49<00:00,  1.70batch/s]\n",
      "Epoch: 17/20: 100%|██████████| 79/79 [00:48<00:00,  1.64batch/s]\n"
     ]
    },
    {
     "name": "stdout",
     "output_type": "stream",
     "text": [
      "Epoch: 17\tTrain Error: 0.01600\tTest Error: 0.24330\n"
     ]
    },
    {
     "name": "stderr",
     "output_type": "stream",
     "text": [
      "Epoch: 18/20: 100%|██████████| 391/391 [13:22<00:00,  2.05s/batch]\n",
      "Epoch: 18/20: 100%|██████████| 391/391 [03:59<00:00,  1.64batch/s]\n",
      "Epoch: 18/20: 100%|██████████| 79/79 [00:52<00:00,  1.52batch/s]\n"
     ]
    },
    {
     "name": "stdout",
     "output_type": "stream",
     "text": [
      "Epoch: 18\tTrain Error: 0.01462\tTest Error: 0.24120\n"
     ]
    },
    {
     "name": "stderr",
     "output_type": "stream",
     "text": [
      "Epoch: 19/20: 100%|██████████| 391/391 [14:20<00:00,  2.20s/batch]\n",
      "Epoch: 19/20: 100%|██████████| 391/391 [03:47<00:00,  1.72batch/s]\n",
      "Epoch: 19/20: 100%|██████████| 79/79 [00:47<00:00,  1.68batch/s]\n"
     ]
    },
    {
     "name": "stdout",
     "output_type": "stream",
     "text": [
      "Epoch: 19\tTrain Error: 0.01694\tTest Error: 0.24570\n"
     ]
    },
    {
     "name": "stderr",
     "output_type": "stream",
     "text": [
      "Epoch: 20/20: 100%|██████████| 391/391 [13:47<00:00,  2.12s/batch]\n",
      "Epoch: 20/20: 100%|██████████| 391/391 [03:49<00:00,  1.70batch/s]\n",
      "Epoch: 20/20: 100%|██████████| 79/79 [00:52<00:00,  1.51batch/s]"
     ]
    },
    {
     "name": "stdout",
     "output_type": "stream",
     "text": [
      "Epoch: 20\tTrain Error: 0.01442\tTest Error: 0.24200\n",
      "\n"
     ]
    },
    {
     "name": "stderr",
     "output_type": "stream",
     "text": [
      "\n"
     ]
    }
   ],
   "source": [
    "losses_original = [[], [], [], []]\n",
    "for ind in range(4):\n",
    "    model = VGG()\n",
    "    optimizer = torch.optim.Adam(model.parameters(), lr = lr[ind])\n",
    "    criterion = nn.CrossEntropyLoss()\n",
    "\n",
    "    root = '../Result/VGG original ' + str(lr[ind])\n",
    "    best_model_file = os.path.join(root, 'model.pt')\n",
    "    losses_file = os.path.join(root, 'losses.pt')\n",
    "    train_errors_file = os.path.join(root, 'train_errors.pt')\n",
    "    test_errors_file = os.path.join(root, 'test_errors.pt')\n",
    "\n",
    "    print('lr =', lr[ind])\n",
    "    losses_original[ind], _, _ = \\\n",
    "        train(model, optimizer, criterion, train_loader, test_loader, device = device,\n",
    "              wrap_tqdms = True, print_errors = True,\n",
    "              best_model_file = best_model_file, losses_file = losses_file,\n",
    "              train_errors_file = train_errors_file, test_errors_file = test_errors_file)\n",
    "    print()"
   ],
   "metadata": {
    "collapsed": false,
    "pycharm": {
     "name": "#%%\n"
    }
   }
  },
  {
   "cell_type": "code",
   "execution_count": 8,
   "outputs": [],
   "source": [
    "losses_original = []\n",
    "for ind in range(4):\n",
    "    root = '../Result/VGG original ' + str(lr[ind])\n",
    "    losses_file = os.path.join(root, 'losses.pt')\n",
    "\n",
    "    losses_original.append(torch.load(losses_file))"
   ],
   "metadata": {
    "collapsed": false,
    "pycharm": {
     "name": "#%%\n"
    }
   }
  },
  {
   "cell_type": "code",
   "execution_count": null,
   "outputs": [],
   "source": [
    "losses_BN = [[], [], [], []]\n",
    "for ind in range(4):\n",
    "    model = VGG_BN()\n",
    "    optimizer = torch.optim.Adam(model.parameters(), lr = lr[ind])\n",
    "    criterion = nn.CrossEntropyLoss()\n",
    "\n",
    "    root = '../Result/VGG BN ' + str(lr[ind])\n",
    "    best_model_file = os.path.join(root, 'model.pt')\n",
    "    losses_file = os.path.join(root, 'losses.pt')\n",
    "    train_errors_file = os.path.join(root, 'train_errors.pt')\n",
    "    test_errors_file = os.path.join(root, 'test_errors.pt')\n",
    "\n",
    "    print('lr =', lr[ind])\n",
    "    losses_BN[ind], _, _ = \\\n",
    "        train(model, optimizer, criterion, train_loader, test_loader, device = device,\n",
    "              wrap_tqdms = True, print_errors = True,\n",
    "              best_model_file = best_model_file, losses_file = losses_file,\n",
    "              train_errors_file = train_errors_file, test_errors_file = test_errors_file)\n",
    "    print()"
   ],
   "metadata": {
    "collapsed": false,
    "pycharm": {
     "name": "#%%\n"
    }
   }
  },
  {
   "cell_type": "code",
   "execution_count": 9,
   "outputs": [],
   "source": [
    "losses_BN = []\n",
    "for ind in range(4):\n",
    "    root = '../Result/VGG BN ' + str(lr[ind])\n",
    "    losses_file = os.path.join(root, 'losses.pt')\n",
    "\n",
    "    losses_BN.append(torch.load(losses_file))"
   ],
   "metadata": {
    "collapsed": false,
    "pycharm": {
     "name": "#%%\n"
    }
   }
  },
  {
   "cell_type": "code",
   "execution_count": 19,
   "outputs": [
    {
     "data": {
      "text/plain": "<Figure size 432x288 with 1 Axes>",
      "image/png": "[encoded data removed]"
     },
     "metadata": {
      "needs_background": "light"
     },
     "output_type": "display_data"
    }
   ],
   "source": [
    "min_curve, max_curve = loss_landscape(losses_original)\n",
    "plt.fill_between(range(len(min_curve)), min_curve, max_curve, alpha = 0.75)\n",
    "\n",
    "min_curve, max_curve = loss_landscape(losses_BN)\n",
    "plt.fill_between(range(len(min_curve)), min_curve, max_curve, alpha = 0.75)\n",
    "\n",
    "plt.legend(['VGG without BN', 'VGG with BN'])\n",
    "plt.xlabel('step')\n",
    "plt.ylabel('loss')\n",
    "plt.title('loss landscape')\n",
    "\n",
    "fig_file = os.path.join(root, 'figure.png')\n",
    "plt.savefig(fig_file)\n",
    "\n",
    "plt.show()"
   ],
   "metadata": {
    "collapsed": false,
    "pycharm": {
     "name": "#%%\n"
    }
   }
  },
  {
   "cell_type": "code",
   "execution_count": 26,
   "outputs": [],
   "source": [
    "root = '../Result/VGG original 0.001'\n",
    "train_errors_file = os.path.join(root, 'train_errors.pt')\n",
    "train_errors_original = torch.load(train_errors_file, map_location = torch.device('cpu'))\n",
    "\n",
    "root = '../Result/VGG BN 0.001'\n",
    "train_errors_file = os.path.join(root, 'train_errors.pt')\n",
    "train_errors_BN = torch.load(train_errors_file, map_location = torch.device('cpu'))"
   ],
   "metadata": {
    "collapsed": false,
    "pycharm": {
     "name": "#%%\n"
    }
   }
  },
  {
   "cell_type": "code",
   "execution_count": 27,
   "outputs": [
    {
     "data": {
      "text/plain": "<Figure size 432x288 with 1 Axes>",
      "image/png": "[encoded data removed]"
     },
     "metadata": {
      "needs_background": "light"
     },
     "output_type": "display_data"
    }
   ],
   "source": [
    "plt.plot(train_errors_original, '-+')\n",
    "plt.plot(train_errors_BN, '-+')\n",
    "plt.xticks(range(0, 21, 2))\n",
    "plt.legend(['without BN', 'with BN'])\n",
    "plt.xlabel('epoch')\n",
    "plt.ylabel('error')\n",
    "plt.title('error with or without batch normalization')\n",
    "\n",
    "fig_file = os.path.join(root, 'figure.png')\n",
    "plt.savefig(fig_file)\n",
    "\n",
    "plt.show()"
   ],
   "metadata": {
    "collapsed": false,
    "pycharm": {
     "name": "#%%\n"
    }
   }
  },
  {
   "cell_type": "code",
   "execution_count": 17,
   "outputs": [],
   "source": [
    "lr = [1e-3, 2e-3, 1e-4, 5e-4]"
   ],
   "metadata": {
    "collapsed": false,
    "pycharm": {
     "name": "#%%\n"
    }
   }
  },
  {
   "cell_type": "code",
   "execution_count": null,
   "outputs": [],
   "source": [
    "outputs_original = [[], [], [], []]\n",
    "grads_original = [[], [], [], []]\n",
    "for ind in range(4):\n",
    "    model = VGG()\n",
    "    optimizer = torch.optim.Adam(model.parameters(), lr = lr[ind])\n",
    "    criterion = nn.CrossEntropyLoss()\n",
    "\n",
    "    root = '../Result/VGG original ' + str(lr[ind])\n",
    "    best_model_file = os.path.join(root, 'model.pt')\n",
    "    outputs_file = os.path.join(root, 'outputs.pt')\n",
    "    grads_file = os.path.join(root, 'grads.pt')\n",
    "    train_errors_file = os.path.join(root, 'train_errors.pt')\n",
    "    test_errors_file = os.path.join(root, 'test_errors.pt')\n",
    "\n",
    "    print('lr =', lr[ind])\n",
    "    outputs_original[ind], grads_original[ind], _, _ = \\\n",
    "        train_plus(model, optimizer, criterion, train_loader, test_loader, device = device,\n",
    "                   wrap_tqdms = True, print_errors = True,\n",
    "                   best_model_file = best_model_file, outputs_file = outputs_file, grads_file = grads_file,\n",
    "                   train_errors_file = train_errors_file, test_errors_file = test_errors_file)\n",
    "    print()"
   ],
   "metadata": {
    "collapsed": false,
    "pycharm": {
     "name": "#%%\n",
     "is_executing": true
    }
   }
  },
  {
   "cell_type": "code",
   "execution_count": null,
   "outputs": [],
   "source": [
    "outputs_BN = [[], [], [], []]\n",
    "grads_BN = [[], [], [], []]\n",
    "for ind in range(4):\n",
    "    model = VGG_BN()\n",
    "    optimizer = torch.optim.Adam(model.parameters(), lr = lr[ind])\n",
    "    criterion = nn.CrossEntropyLoss()\n",
    "\n",
    "    root = '../Result/VGG BN ' + str(lr[ind])\n",
    "    best_model_file = os.path.join(root, 'model.pt')\n",
    "    outputs_file = os.path.join(root, 'outputs.pt')\n",
    "    grads_file = os.path.join(root, 'grads.pt')\n",
    "    train_errors_file = os.path.join(root, 'train_errors.pt')\n",
    "    test_errors_file = os.path.join(root, 'test_errors.pt')\n",
    "\n",
    "    print('lr =', lr[ind])\n",
    "    outputs_BN[ind], grads_BN[ind], _, _ = \\\n",
    "        train_plus(model, optimizer, criterion, train_loader, test_loader, device = device,\n",
    "                   wrap_tqdms = True, print_errors = True,\n",
    "                   best_model_file = best_model_file, outputs_file = outputs_file, grads_file = grads_file,\n",
    "                   train_errors_file = train_errors_file, test_errors_file = test_errors_file)\n",
    "    print()"
   ],
   "metadata": {
    "collapsed": false,
    "pycharm": {
     "name": "#%%\n"
    }
   }
  },
  {
   "cell_type": "code",
   "execution_count": 33,
   "outputs": [],
   "source": [
    "x = torch.tensor([[1,2,3],[3,4,5]])"
   ],
   "metadata": {
    "collapsed": false,
    "pycharm": {
     "name": "#%%\n"
    }
   }
  },
  {
   "cell_type": "code",
   "execution_count": 30,
   "outputs": [
    {
     "data": {
      "text/plain": "tensor([[-2, -1,  0],\n        [-2, -1,  0]])"
     },
     "execution_count": 30,
     "metadata": {},
     "output_type": "execute_result"
    }
   ],
   "source": [
    "x - torch.max(x, dim = 1).values.view(2, 1)"
   ],
   "metadata": {
    "collapsed": false,
    "pycharm": {
     "name": "#%%\n"
    }
   }
  },
  {
   "cell_type": "code",
   "execution_count": 29,
   "outputs": [
    {
     "data": {
      "text/plain": "tensor([[3, 3, 3],\n        [5, 5, 5]])"
     },
     "execution_count": 29,
     "metadata": {},
     "output_type": "execute_result"
    }
   ],
   "source": [
    "torch.broadcast_to(torch.max(x, dim = 1).values.view(2, 1), (2, 3))"
   ],
   "metadata": {
    "collapsed": false,
    "pycharm": {
     "name": "#%%\n"
    }
   }
  },
  {
   "cell_type": "code",
   "execution_count": 26,
   "outputs": [
    {
     "data": {
      "text/plain": "tensor([[1, 2, 3],\n        [3, 4, 5]])"
     },
     "execution_count": 26,
     "metadata": {},
     "output_type": "execute_result"
    }
   ],
   "source": [
    "x"
   ],
   "metadata": {
    "collapsed": false,
    "pycharm": {
     "name": "#%%\n"
    }
   }
  },
  {
   "cell_type": "code",
   "execution_count": null,
   "outputs": [],
   "source": [],
   "metadata": {
    "collapsed": false,
    "pycharm": {
     "name": "#%%\n"
    }
   }
  }
 ],
 "metadata": {
  "kernelspec": {
   "display_name": "Python 3 (ipykernel)",
   "language": "python",
   "name": "python3"
  },
  "language_info": {
   "codemirror_mode": {
    "name": "ipython",
    "version": 3
   },
   "file_extension": ".py",
   "mimetype": "text/x-python",
   "name": "python",
   "nbconvert_exporter": "python",
   "pygments_lexer": "ipython3",
   "version": "3.8.6"
  }
 },
 "nbformat": 4,
 "nbformat_minor": 5
}