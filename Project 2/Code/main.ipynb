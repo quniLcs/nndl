{
 "cells": [
  {
   "cell_type": "markdown",
   "id": "96b5b95c",
   "metadata": {},
   "source": [
    "## 导入模块"
   ]
  },
  {
   "cell_type": "code",
   "execution_count": 1,
   "id": "2c15b8af",
   "metadata": {},
   "outputs": [],
   "source": [
    "import os.path\n",
    "import torch\n",
    "from torch import nn\n",
    "import matplotlib.pyplot as plt"
   ]
  },
  {
   "cell_type": "code",
   "execution_count": 12,
   "id": "bc03830d",
   "metadata": {},
   "outputs": [],
   "source": [
    "from nn import *\n",
    "from load import load\n",
    "from util import set_random_seeds, get_num_parameters, train"
   ]
  },
  {
   "cell_type": "markdown",
   "id": "4bde3ad1",
   "metadata": {},
   "source": [
    "## 载入数据"
   ]
  },
  {
   "cell_type": "code",
   "execution_count": 3,
   "id": "d742cc01",
   "metadata": {},
   "outputs": [
    {
     "name": "stdout",
     "output_type": "stream",
     "text": [
      "Files already downloaded and verified\n",
      "Files already downloaded and verified\n"
     ]
    }
   ],
   "source": [
    "device = torch.device('cuda:0' if torch.cuda.is_available() else 'cpu')\n",
    "set_random_seeds(seed = 0, device = device)\n",
    "\n",
    "train_loader = load(train = True)\n",
    "test_loader = load(train = False)"
   ]
  },
  {
   "cell_type": "markdown",
   "id": "26aafe5b",
   "metadata": {},
   "source": [
    "## 初始架构"
   ]
  },
  {
   "cell_type": "code",
   "execution_count": 4,
   "id": "e8310760",
   "metadata": {},
   "outputs": [
    {
     "name": "stdout",
     "output_type": "stream",
     "text": [
      "Epoch:  1\tTrain Error: 0.46426\tTest Error: 0.46610\n",
      "Epoch:  2\tTrain Error: 0.39284\tTest Error: 0.40720\n",
      "Epoch:  3\tTrain Error: 0.34746\tTest Error: 0.37080\n",
      "Epoch:  4\tTrain Error: 0.30776\tTest Error: 0.34930\n",
      "Epoch:  5\tTrain Error: 0.29376\tTest Error: 0.35000\n",
      "Epoch:  6\tTrain Error: 0.26306\tTest Error: 0.33230\n",
      "Epoch:  7\tTrain Error: 0.22036\tTest Error: 0.30660\n",
      "Epoch:  8\tTrain Error: 0.20134\tTest Error: 0.30160\n",
      "Epoch:  9\tTrain Error: 0.19084\tTest Error: 0.30770\n",
      "Epoch: 10\tTrain Error: 0.16584\tTest Error: 0.30770\n",
      "Epoch: 11\tTrain Error: 0.15242\tTest Error: 0.30270\n",
      "Epoch: 12\tTrain Error: 0.13310\tTest Error: 0.30720\n",
      "Epoch: 13\tTrain Error: 0.12722\tTest Error: 0.31080\n",
      "Epoch: 14\tTrain Error: 0.10172\tTest Error: 0.30940\n",
      "Epoch: 15\tTrain Error: 0.09734\tTest Error: 0.30760\n",
      "Epoch: 16\tTrain Error: 0.09870\tTest Error: 0.31590\n",
      "Epoch: 17\tTrain Error: 0.06678\tTest Error: 0.31460\n",
      "Epoch: 18\tTrain Error: 0.05868\tTest Error: 0.31480\n",
      "Epoch: 19\tTrain Error: 0.05860\tTest Error: 0.32420\n",
      "Epoch: 20\tTrain Error: 0.06242\tTest Error: 0.32970\n"
     ]
    }
   ],
   "source": [
    "model = NN()\n",
    "optimizer = torch.optim.Adam(model.parameters(), lr = 0.001)\n",
    "criterion = nn.CrossEntropyLoss()\n",
    "\n",
    "root = '../Result/NN original'\n",
    "best_model_file = os.path.join(root, 'model.pt')\n",
    "losses_file = os.path.join(root, 'losses.pt')\n",
    "train_errors_file = os.path.join(root, 'train_errors.pt')\n",
    "test_errors_file = os.path.join(root, 'test_errors.pt')\n",
    "\n",
    "_, train_error_original, test_error_original = \\\n",
    "    train(model, optimizer, criterion, train_loader, test_loader, device = device, \n",
    "          wrap_tqdms = False, print_errors = True,\n",
    "          best_model_file = best_model_file, losses_file = losses_file,\n",
    "          train_errors_file = train_errors_file, test_errors_file = test_errors_file)"
   ]
  },
  {
   "cell_type": "code",
   "execution_count": 13,
   "id": "46ff46f2",
   "metadata": {},
   "outputs": [
    {
     "name": "stdout",
     "output_type": "stream",
     "text": [
      "Number of parameters: 285162\n"
     ]
    }
   ],
   "source": [
    "print(\"Number of parameters:\", get_num_parameters(model))"
   ]
  },
  {
   "cell_type": "code",
   "execution_count": 10,
   "id": "538f0cc5",
   "metadata": {},
   "outputs": [
    {
     "data": {
      "image/png": "[encoded data removed]",
      "text/plain": [
       "<Figure size 432x288 with 1 Axes>"
      ]
     },
     "metadata": {
      "needs_background": "light"
     },
     "output_type": "display_data"
    }
   ],
   "source": [
    "plt.plot(train_error_original, '-+')\n",
    "plt.plot(test_error_original, '-+')\n",
    "plt.xticks(range(0, 21, 2))\n",
    "plt.legend(['train', 'test'])\n",
    "plt.xlabel('epoch')\n",
    "plt.ylabel('error')\n",
    "plt.title('error on training and testing set')\n",
    "\n",
    "fig_file = os.path.join(root, 'figure.png')\n",
    "plt.savefig(fig_file)\n",
    "\n",
    "plt.show()"
   ]
  },
  {
   "cell_type": "markdown",
   "id": "3b2896c9",
   "metadata": {},
   "source": [
    "## 神经元数量调整"
   ]
  },
  {
   "cell_type": "code",
   "execution_count": 14,
   "id": "f436918f",
   "metadata": {},
   "outputs": [
    {
     "name": "stdout",
     "output_type": "stream",
     "text": [
      "Epoch:  1\tTrain Error: 0.56712\tTest Error: 0.56570\n",
      "Epoch:  2\tTrain Error: 0.52376\tTest Error: 0.52390\n",
      "Epoch:  3\tTrain Error: 0.49590\tTest Error: 0.49740\n",
      "Epoch:  4\tTrain Error: 0.48050\tTest Error: 0.48550\n",
      "Epoch:  5\tTrain Error: 0.46458\tTest Error: 0.47030\n",
      "Epoch:  6\tTrain Error: 0.46180\tTest Error: 0.47470\n",
      "Epoch:  7\tTrain Error: 0.43794\tTest Error: 0.45500\n",
      "Epoch:  8\tTrain Error: 0.42918\tTest Error: 0.44580\n",
      "Epoch:  9\tTrain Error: 0.42394\tTest Error: 0.44050\n",
      "Epoch: 10\tTrain Error: 0.41632\tTest Error: 0.43640\n",
      "Epoch: 11\tTrain Error: 0.41192\tTest Error: 0.43250\n",
      "Epoch: 12\tTrain Error: 0.41512\tTest Error: 0.43050\n",
      "Epoch: 13\tTrain Error: 0.39754\tTest Error: 0.42350\n",
      "Epoch: 14\tTrain Error: 0.38868\tTest Error: 0.41570\n",
      "Epoch: 15\tTrain Error: 0.38494\tTest Error: 0.41300\n",
      "Epoch: 16\tTrain Error: 0.38624\tTest Error: 0.41280\n",
      "Epoch: 17\tTrain Error: 0.38194\tTest Error: 0.41060\n",
      "Epoch: 18\tTrain Error: 0.37920\tTest Error: 0.40880\n",
      "Epoch: 19\tTrain Error: 0.39170\tTest Error: 0.41670\n",
      "Epoch: 20\tTrain Error: 0.37472\tTest Error: 0.40570\n"
     ]
    }
   ],
   "source": [
    "model = NN(hidden_channels = (4, 8), hidden_neurons = (32, 32))\n",
    "optimizer = torch.optim.Adam(model.parameters(), lr = 0.001)\n",
    "criterion = nn.CrossEntropyLoss()\n",
    "\n",
    "root = '../Result/NN smaller'\n",
    "best_model_file = os.path.join(root, 'model.pt')\n",
    "losses_file = os.path.join(root, 'losses.pt')\n",
    "train_errors_file = os.path.join(root, 'train_errors.pt')\n",
    "test_errors_file = os.path.join(root, 'test_errors.pt')\n",
    "\n",
    "_, train_error_smaller, test_error_smaller = \\\n",
    "    train(model, optimizer, criterion, train_loader, test_loader, device = device, \n",
    "          wrap_tqdms = False, print_errors = True,\n",
    "          best_model_file = best_model_file, losses_file = losses_file,\n",
    "          train_errors_file = train_errors_file, test_errors_file = test_errors_file)"
   ]
  },
  {
   "cell_type": "code",
   "execution_count": 15,
   "id": "6e174852",
   "metadata": {},
   "outputs": [
    {
     "name": "stdout",
     "output_type": "stream",
     "text": [
      "Number of parameters: 18210\n"
     ]
    }
   ],
   "source": [
    "print(\"Number of parameters:\", get_num_parameters(model))"
   ]
  },
  {
   "cell_type": "code",
   "execution_count": 16,
   "id": "06c636e0",
   "metadata": {},
   "outputs": [
    {
     "name": "stdout",
     "output_type": "stream",
     "text": [
      "Epoch:  1\tTrain Error: 0.34022\tTest Error: 0.36890\n",
      "Epoch:  2\tTrain Error: 0.25568\tTest Error: 0.30960\n",
      "Epoch:  3\tTrain Error: 0.15532\tTest Error: 0.26790\n",
      "Epoch:  4\tTrain Error: 0.08938\tTest Error: 0.26310\n",
      "Epoch:  5\tTrain Error: 0.06042\tTest Error: 0.26830\n",
      "Epoch:  6\tTrain Error: 0.02886\tTest Error: 0.26620\n",
      "Epoch:  7\tTrain Error: 0.03278\tTest Error: 0.27960\n",
      "Epoch:  8\tTrain Error: 0.01704\tTest Error: 0.27340\n",
      "Epoch:  9\tTrain Error: 0.02214\tTest Error: 0.27900\n",
      "Epoch: 10\tTrain Error: 0.02302\tTest Error: 0.28650\n",
      "Epoch: 11\tTrain Error: 0.01574\tTest Error: 0.27650\n",
      "Epoch: 12\tTrain Error: 0.01422\tTest Error: 0.27920\n",
      "Epoch: 13\tTrain Error: 0.01478\tTest Error: 0.27560\n",
      "Epoch: 14\tTrain Error: 0.01156\tTest Error: 0.27760\n",
      "Epoch: 15\tTrain Error: 0.01284\tTest Error: 0.28370\n",
      "Epoch: 16\tTrain Error: 0.01016\tTest Error: 0.28590\n",
      "Epoch: 17\tTrain Error: 0.01112\tTest Error: 0.27340\n",
      "Epoch: 18\tTrain Error: 0.01032\tTest Error: 0.27660\n",
      "Epoch: 19\tTrain Error: 0.00978\tTest Error: 0.27650\n",
      "Epoch: 20\tTrain Error: 0.00998\tTest Error: 0.27710\n"
     ]
    }
   ],
   "source": [
    "model = NN(hidden_channels = (64, 128), hidden_neurons = (512, 512))\n",
    "optimizer = torch.optim.Adam(model.parameters(), lr = 0.001)\n",
    "criterion = nn.CrossEntropyLoss()\n",
    "\n",
    "root = '../Result/NN bigger'\n",
    "best_model_file = os.path.join(root, 'model.pt')\n",
    "losses_file = os.path.join(root, 'losses.pt')\n",
    "train_errors_file = os.path.join(root, 'train_errors.pt')\n",
    "test_errors_file = os.path.join(root, 'test_errors.pt')\n",
    "\n",
    "_, train_error_bigger, test_error_bigger = \\\n",
    "    train(model, optimizer, criterion, train_loader, test_loader, device = device, \n",
    "          wrap_tqdms = False, print_errors = True,\n",
    "          best_model_file = best_model_file, losses_file = losses_file,\n",
    "          train_errors_file = train_errors_file, test_errors_file = test_errors_file)"
   ]
  },
  {
   "cell_type": "code",
   "execution_count": 17,
   "id": "9d90ca1f",
   "metadata": {},
   "outputs": [
    {
     "name": "stdout",
     "output_type": "stream",
     "text": [
      "Number of parameters: 4538250\n"
     ]
    }
   ],
   "source": [
    "print(\"Number of parameters:\", get_num_parameters(model))"
   ]
  },
  {
   "cell_type": "code",
   "execution_count": 18,
   "id": "1615ad1d",
   "metadata": {},
   "outputs": [
    {
     "data": {
      "image/png": "[encoded data removed]",
      "text/plain": [
       "<Figure size 432x288 with 1 Axes>"
      ]
     },
     "metadata": {
      "needs_background": "light"
     },
     "output_type": "display_data"
    }
   ],
   "source": [
    "plt.plot(train_error_original, '-+')\n",
    "plt.plot(train_error_smaller, '-+')\n",
    "plt.plot(train_error_bigger, '-+')\n",
    "plt.xticks(range(0, 21, 2))\n",
    "plt.legend(['original', 'smaller', 'bigger'])\n",
    "plt.xlabel('epoch')\n",
    "plt.ylabel('error')\n",
    "plt.title('error with different network structures')\n",
    "\n",
    "fig_file = os.path.join(root, 'figure.png')\n",
    "plt.savefig(fig_file)\n",
    "\n",
    "plt.show()"
   ]
  },
  {
   "cell_type": "markdown",
   "id": "f0e30beb",
   "metadata": {},
   "source": [
    "## 损失函数"
   ]
  },
  {
   "cell_type": "code",
   "execution_count": 19,
   "id": "b2bb3b47",
   "metadata": {},
   "outputs": [
    {
     "name": "stdout",
     "output_type": "stream",
     "text": [
      "Epoch:  1\tTrain Error: 0.47478\tTest Error: 0.47100\n",
      "Epoch:  2\tTrain Error: 0.39966\tTest Error: 0.41210\n",
      "Epoch:  3\tTrain Error: 0.35528\tTest Error: 0.37250\n",
      "Epoch:  4\tTrain Error: 0.31880\tTest Error: 0.35440\n",
      "Epoch:  5\tTrain Error: 0.30490\tTest Error: 0.34810\n",
      "Epoch:  6\tTrain Error: 0.29750\tTest Error: 0.34470\n",
      "Epoch:  7\tTrain Error: 0.26048\tTest Error: 0.33180\n",
      "Epoch:  8\tTrain Error: 0.23006\tTest Error: 0.31920\n",
      "Epoch:  9\tTrain Error: 0.21676\tTest Error: 0.31910\n",
      "Epoch: 10\tTrain Error: 0.20512\tTest Error: 0.32740\n",
      "Epoch: 11\tTrain Error: 0.17606\tTest Error: 0.31730\n",
      "Epoch: 12\tTrain Error: 0.18196\tTest Error: 0.32420\n",
      "Epoch: 13\tTrain Error: 0.15332\tTest Error: 0.32370\n",
      "Epoch: 14\tTrain Error: 0.13478\tTest Error: 0.32450\n",
      "Epoch: 15\tTrain Error: 0.11732\tTest Error: 0.31200\n",
      "Epoch: 16\tTrain Error: 0.11272\tTest Error: 0.32720\n",
      "Epoch: 17\tTrain Error: 0.09168\tTest Error: 0.31900\n",
      "Epoch: 18\tTrain Error: 0.08184\tTest Error: 0.31470\n",
      "Epoch: 19\tTrain Error: 0.08724\tTest Error: 0.32420\n",
      "Epoch: 20\tTrain Error: 0.07886\tTest Error: 0.33310\n"
     ]
    }
   ],
   "source": [
    "model = NN()\n",
    "optimizer = torch.optim.Adam(model.parameters(), lr = 0.001)\n",
    "criterion = nn.MultiMarginLoss()\n",
    "\n",
    "root = '../Result/NN hinge'\n",
    "best_model_file = os.path.join(root, 'model.pt')\n",
    "losses_file = os.path.join(root, 'losses.pt')\n",
    "train_errors_file = os.path.join(root, 'train_errors.pt')\n",
    "test_errors_file = os.path.join(root, 'test_errors.pt')\n",
    "\n",
    "_, train_error_hinge, test_error_hinge = \\\n",
    "    train(model, optimizer, criterion, train_loader, test_loader, device = device, \n",
    "          wrap_tqdms = False, print_errors = True,\n",
    "          best_model_file = best_model_file, losses_file = losses_file,\n",
    "          train_errors_file = train_errors_file, test_errors_file = test_errors_file)"
   ]
  },
  {
   "cell_type": "code",
   "execution_count": 20,
   "id": "ba4a39e0",
   "metadata": {},
   "outputs": [
    {
     "data": {
      "image/png": "[encoded data removed]",
      "text/plain": [
       "<Figure size 432x288 with 1 Axes>"
      ]
     },
     "metadata": {
      "needs_background": "light"
     },
     "output_type": "display_data"
    }
   ],
   "source": [
    "plt.plot(train_error_original, '-+')\n",
    "plt.plot(train_error_hinge, '-+')\n",
    "plt.xticks(range(0, 21, 2))\n",
    "plt.legend(['cross entropy', 'multi-class hinge'])\n",
    "plt.xlabel('epoch')\n",
    "plt.ylabel('error')\n",
    "plt.title('error with different loss functions')\n",
    "\n",
    "fig_file = os.path.join(root, 'figure.png')\n",
    "plt.savefig(fig_file)\n",
    "\n",
    "plt.show()"
   ]
  },
  {
   "cell_type": "markdown",
   "id": "6f74086f",
   "metadata": {},
   "source": [
    "## 正则化"
   ]
  },
  {
   "cell_type": "code",
   "execution_count": null,
   "id": "0999a945",
   "metadata": {},
   "outputs": [
    {
     "name": "stdout",
     "output_type": "stream",
     "text": [
      "lambda = 0.005\n",
      "Epoch:  1\tTrain Error: 0.52090\tTest Error: 0.52130\n",
      "Epoch:  2\tTrain Error: 0.48012\tTest Error: 0.48300\n",
      "Epoch:  3\tTrain Error: 0.45488\tTest Error: 0.45730\n",
      "Epoch:  4\tTrain Error: 0.44808\tTest Error: 0.45060\n",
      "Epoch:  5\tTrain Error: 0.45272\tTest Error: 0.45410\n",
      "Epoch:  6\tTrain Error: 0.42502\tTest Error: 0.42750\n",
      "Epoch:  7\tTrain Error: 0.41172\tTest Error: 0.42090\n",
      "Epoch:  8\tTrain Error: 0.39998\tTest Error: 0.40910\n",
      "Epoch:  9\tTrain Error: 0.38158\tTest Error: 0.39490\n",
      "Epoch: 10\tTrain Error: 0.40000\tTest Error: 0.41080\n",
      "Epoch: 11\tTrain Error: 0.38968\tTest Error: 0.40620\n",
      "Epoch: 12\tTrain Error: 0.36532\tTest Error: 0.37920\n",
      "Epoch: 13\tTrain Error: 0.36512\tTest Error: 0.37840\n",
      "Epoch: 14\tTrain Error: 0.36016\tTest Error: 0.37610\n",
      "Epoch: 15\tTrain Error: 0.36242\tTest Error: 0.37270\n",
      "Epoch: 16\tTrain Error: 0.35954\tTest Error: 0.37410\n",
      "Epoch: 17\tTrain Error: 0.35582\tTest Error: 0.37120\n",
      "Epoch: 18\tTrain Error: 0.36568\tTest Error: 0.37950\n",
      "Epoch: 19\tTrain Error: 0.36030\tTest Error: 0.37260\n",
      "Epoch: 20\tTrain Error: 0.36296\tTest Error: 0.37680\n",
      "\n",
      "lambda = 0.0005\n",
      "Epoch:  1\tTrain Error: 0.48784\tTest Error: 0.48460\n",
      "Epoch:  2\tTrain Error: 0.42074\tTest Error: 0.43380\n",
      "Epoch:  3\tTrain Error: 0.36122\tTest Error: 0.37820\n",
      "Epoch:  4\tTrain Error: 0.36526\tTest Error: 0.38720\n",
      "Epoch:  5\tTrain Error: 0.34140\tTest Error: 0.36990\n",
      "Epoch:  6\tTrain Error: 0.33226\tTest Error: 0.35770\n",
      "Epoch:  7\tTrain Error: 0.29032\tTest Error: 0.33580\n",
      "Epoch:  8\tTrain Error: 0.26726\tTest Error: 0.32120\n",
      "Epoch:  9\tTrain Error: 0.25746\tTest Error: 0.31710\n",
      "Epoch: 10\tTrain Error: 0.23998\tTest Error: 0.31550\n",
      "Epoch: 11\tTrain Error: 0.24472\tTest Error: 0.32150\n",
      "Epoch: 12\tTrain Error: 0.23842\tTest Error: 0.32260\n",
      "Epoch: 13\tTrain Error: 0.22032\tTest Error: 0.30680\n",
      "Epoch: 14\tTrain Error: 0.20422\tTest Error: 0.30420\n",
      "Epoch: 15\tTrain Error: 0.19692\tTest Error: 0.30240\n",
      "Epoch: 16\tTrain Error: 0.19614\tTest Error: 0.30790\n"
     ]
    }
   ],
   "source": [
    "weight_decay = (0.05, 0.01, 0.005, 0.0005, 0.00005)\n",
    "train_error_regularize = [[], [], [], [], []]\n",
    "test_error_regularize = [[], [], [], [], []]\n",
    "for ind in (2, 3, 4):\n",
    "    model = NN()\n",
    "    optimizer = torch.optim.Adam(model.parameters(), lr = 0.001, weight_decay = weight_decay[ind])\n",
    "    criterion = nn.MultiMarginLoss()\n",
    "\n",
    "    root = '../Result/NN regularize ' + str(weight_decay[ind]) \n",
    "    best_model_file = os.path.join(root, 'model.pt')\n",
    "    losses_file = os.path.join(root, 'losses.pt')\n",
    "    train_errors_file = os.path.join(root, 'train_errors.pt')\n",
    "    test_errors_file = os.path.join(root, 'test_errors.pt')\n",
    "\n",
    "    print('lambda =', weight_decay[ind])\n",
    "    _, train_error_regularize[ind], train_error_regularize[ind] = \\\n",
    "        train(model, optimizer, criterion, train_loader, test_loader, device = device, \n",
    "              wrap_tqdms = False, print_errors = True,\n",
    "              best_model_file = best_model_file, losses_file = losses_file,\n",
    "              train_errors_file = train_errors_file, test_errors_file = test_errors_file)\n",
    "    print()"
   ]
  },
  {
   "cell_type": "code",
   "execution_count": null,
   "id": "8c93a233",
   "metadata": {},
   "outputs": [],
   "source": [
    "plt.plot(train_error_original, '-+')\n",
    "for ind in range(3):\n",
    "    plt.plot(train_error_regularize[ind], '-+')\n",
    "plt.xticks(range(0, 21, 2))\n",
    "plt.legend(['lambda = 0', 'lambda = 0.1', 'lambda = 0.05', 'lambda = 0.01'])\n",
    "plt.xlabel('epoch')\n",
    "plt.ylabel('error')\n",
    "plt.title('error with different regularization parameters')\n",
    "\n",
    "fig_file = os.path.join(root, 'figure.png')\n",
    "plt.savefig(fig_file)\n",
    "\n",
    "plt.show()"
   ]
  },
  {
   "cell_type": "markdown",
   "id": "e140b1b8",
   "metadata": {},
   "source": [
    "## 激活函数"
   ]
  },
  {
   "cell_type": "code",
   "execution_count": null,
   "id": "2941faab",
   "metadata": {},
   "outputs": [],
   "source": [
    "model = NN_tanh()\n",
    "optimizer = torch.optim.Adam(model.parameters(), lr = 0.001)\n",
    "criterion = nn.CrossEntropyLoss()\n",
    "\n",
    "root = '../Result/NN tanh'\n",
    "best_model_file = os.path.join(root, 'model.pt')\n",
    "losses_file = os.path.join(root, 'losses.pt')\n",
    "train_errors_file = os.path.join(root, 'train_errors.pt')\n",
    "test_errors_file = os.path.join(root, 'test_errors.pt')\n",
    "\n",
    "_, train_error_tanh, test_error_tanh = \\\n",
    "    train(model, optimizer, criterion, train_loader, test_loader, device = device, \n",
    "          wrap_tqdms = False, print_errors = True,\n",
    "          best_model_file = best_model_file, losses_file = losses_file,\n",
    "          train_errors_file = train_errors_file, test_errors_file = test_errors_file)"
   ]
  },
  {
   "cell_type": "code",
   "execution_count": null,
   "id": "2cbb1537",
   "metadata": {},
   "outputs": [],
   "source": [
    "model = NN_softplus()\n",
    "optimizer = torch.optim.Adam(model.parameters(), lr = 0.001)\n",
    "criterion = nn.CrossEntropyLoss()\n",
    "\n",
    "root = '../Result/NN softplus'\n",
    "best_model_file = os.path.join(root, 'model.pt')\n",
    "losses_file = os.path.join(root, 'losses.pt')\n",
    "train_errors_file = os.path.join(root, 'train_errors.pt')\n",
    "test_errors_file = os.path.join(root, 'test_errors.pt')\n",
    "\n",
    "_, train_error_softplus, test_error_softplus = \\\n",
    "    train(model, optimizer, criterion, train_loader, test_loader, device = device, \n",
    "          wrap_tqdms = False, print_errors = True,\n",
    "          best_model_file = best_model_file, losses_file = losses_file,\n",
    "          train_errors_file = train_errors_file, test_errors_file = test_errors_file)"
   ]
  },
  {
   "cell_type": "code",
   "execution_count": null,
   "id": "202511cc",
   "metadata": {},
   "outputs": [],
   "source": [
    "plt.plot(train_error_original, '-+')\n",
    "plt.plot(train_error_tanh, '-+')\n",
    "plt.plot(train_error_softplus, '-+')\n",
    "plt.xticks(range(0, 21, 2))\n",
    "plt.legend(['ReLU', 'tanh', 'softmax'])\n",
    "plt.xlabel('epoch')\n",
    "plt.ylabel('error')\n",
    "plt.title('error with different activation functions')\n",
    "\n",
    "fig_file = os.path.join(root, 'figure.png')\n",
    "plt.savefig(fig_file)\n",
    "\n",
    "plt.show()"
   ]
  },
  {
   "cell_type": "markdown",
   "id": "5ce0235e",
   "metadata": {},
   "source": [
    "## 优化器"
   ]
  },
  {
   "cell_type": "code",
   "execution_count": null,
   "id": "99a813db",
   "metadata": {},
   "outputs": [],
   "source": [
    "model = NN()\n",
    "optimizer = torch.optim.SGD(model.parameters(), lr = 0.001)\n",
    "criterion = nn.CrossEntropyLoss()\n",
    "\n",
    "root = '../Result/NN SGD'\n",
    "best_model_file = os.path.join(root, 'model.pt')\n",
    "losses_file = os.path.join(root, 'losses.pt')\n",
    "train_errors_file = os.path.join(root, 'train_errors.pt')\n",
    "test_errors_file = os.path.join(root, 'test_errors.pt')\n",
    "\n",
    "_, train_error_SGD, test_error_SGD = \\\n",
    "    train(model, optimizer, criterion, train_loader, test_loader, device = device, \n",
    "          wrap_tqdms = False, print_errors = True,\n",
    "          best_model_file = best_model_file, losses_file = losses_file,\n",
    "          train_errors_file = train_errors_file, test_errors_file = test_errors_file)"
   ]
  },
  {
   "cell_type": "code",
   "execution_count": null,
   "id": "00114d43",
   "metadata": {},
   "outputs": [],
   "source": [
    "model = NN()\n",
    "optimizer = torch.optim.SGD(model.parameters(), lr = 0.001, momentum = 0.9)\n",
    "criterion = nn.CrossEntropyLoss()\n",
    "\n",
    "root = '../Result/NN momentum'\n",
    "best_model_file = os.path.join(root, 'model.pt')\n",
    "losses_file = os.path.join(root, 'losses.pt')\n",
    "train_errors_file = os.path.join(root, 'train_errors.pt')\n",
    "test_errors_file = os.path.join(root, 'test_errors.pt')\n",
    "\n",
    "_, train_error_momentum, test_error_momentum = \\\n",
    "    train(model, optimizer, criterion, train_loader, test_loader, device = device, \n",
    "          wrap_tqdms = False, print_errors = True,\n",
    "          best_model_file = best_model_file, losses_file = losses_file,\n",
    "          train_errors_file = train_errors_file, test_errors_file = test_errors_file)"
   ]
  },
  {
   "cell_type": "code",
   "execution_count": null,
   "id": "58dc6218",
   "metadata": {},
   "outputs": [],
   "source": [
    "model = NN()\n",
    "optimizer = torch.optim.Adagrad(model.parameters(), lr = 0.01)\n",
    "criterion = nn.CrossEntropyLoss()\n",
    "\n",
    "root = '../Result/NN Adagrad'\n",
    "best_model_file = os.path.join(root, 'model.pt')\n",
    "losses_file = os.path.join(root, 'losses.pt')\n",
    "train_errors_file = os.path.join(root, 'train_errors.pt')\n",
    "test_errors_file = os.path.join(root, 'test_errors.pt')\n",
    "\n",
    "_, train_error_Adagrad, test_error_Adagrad = \\\n",
    "    train(model, optimizer, criterion, train_loader, test_loader, device = device, \n",
    "          wrap_tqdms = False, print_errors = True,\n",
    "          best_model_file = best_model_file, losses_file = losses_file,\n",
    "          train_errors_file = train_errors_file, test_errors_file = test_errors_file)"
   ]
  },
  {
   "cell_type": "code",
   "execution_count": null,
   "id": "6bd41a63",
   "metadata": {},
   "outputs": [],
   "source": [
    "plt.plot(train_error_original, '-+')\n",
    "plt.plot(train_error_SGD, '-+')\n",
    "plt.plot(train_error_momentum, '-+')\n",
    "plt.plot(train_error_Adagrad, '-+')\n",
    "plt.xticks(range(0, 21, 2))\n",
    "plt.legend(['Adam', 'SGD', 'SGD + momentum', 'Adagrad'])\n",
    "plt.xlabel('epoch')\n",
    "plt.ylabel('error')\n",
    "plt.title('error with different optimizers')\n",
    "\n",
    "fig_file = os.path.join(root, 'figure.png')\n",
    "plt.savefig(fig_file)\n",
    "\n",
    "plt.show()"
   ]
  }
 ],
 "metadata": {
  "kernelspec": {
   "display_name": "Python 3 (ipykernel)",
   "language": "python",
   "name": "python3"
  },
  "language_info": {
   "codemirror_mode": {
    "name": "ipython",
    "version": 3
   },
   "file_extension": ".py",
   "mimetype": "text/x-python",
   "name": "python",
   "nbconvert_exporter": "python",
   "pygments_lexer": "ipython3",
   "version": "3.8.6"
  }
 },
 "nbformat": 4,
 "nbformat_minor": 5
}
