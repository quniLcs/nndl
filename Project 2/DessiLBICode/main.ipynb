{
 "cells": [
  {
   "cell_type": "code",
   "execution_count": null,
   "metadata": {
    "collapsed": true,
    "pycharm": {
     "is_executing": true
    }
   },
   "outputs": [],
   "source": [
    "import os.path\n",
    "import torch\n",
    "import matplotlib.pyplot as plt"
   ]
  },
  {
   "cell_type": "code",
   "execution_count": null,
   "outputs": [],
   "source": [
    "root = '../Result/DessiLBI LeNet original'\n",
    "error_train_file = os.path.join(root, 'error_train.pth')\n",
    "error_test_file = os.path.join(root, 'error_test.pth')\n",
    "error_train_original = torch.load(error_train_file)\n",
    "error_test_original = torch.load(error_test_file)"
   ],
   "metadata": {
    "collapsed": false,
    "pycharm": {
     "name": "#%%\n",
     "is_executing": true
    }
   }
  },
  {
   "cell_type": "code",
   "execution_count": null,
   "outputs": [],
   "source": [
    "root = '../Result/DessiLBI LeNet Adam'\n",
    "error_train_file = os.path.join(root, 'error_train.pth')\n",
    "error_test_file = os.path.join(root, 'error_test.pth')\n",
    "error_train_Adam = torch.load(error_train_file)\n",
    "error_test_Adam = torch.load(error_test_file)"
   ],
   "metadata": {
    "collapsed": false,
    "pycharm": {
     "name": "#%%\n",
     "is_executing": true
    }
   }
  },
  {
   "cell_type": "code",
   "execution_count": null,
   "outputs": [],
   "source": [
    "plt.plot(error_train_original[0], '-')\n",
    "plt.plot(error_train_Adam[0], '-')\n",
    "plt.legend(['original', 'Adam'])\n",
    "plt.xlabel('iteration')\n",
    "plt.ylabel('error')\n",
    "plt.title('error on training set')\n",
    "\n",
    "plt.show()"
   ],
   "metadata": {
    "collapsed": false,
    "pycharm": {
     "name": "#%%\n",
     "is_executing": true
    }
   }
  },
  {
   "cell_type": "code",
   "execution_count": null,
   "outputs": [],
   "source": [
    "plt.plot(error_test_original, '-')\n",
    "plt.plot(error_test_Adam, '-')\n",
    "plt.legend(['original', 'Adam'])\n",
    "plt.xlabel('epoch')\n",
    "plt.ylabel('error')\n",
    "plt.title('error on testing set')\n",
    "\n",
    "plt.show()"
   ],
   "metadata": {
    "collapsed": false,
    "pycharm": {
     "name": "#%%\n",
     "is_executing": true
    }
   }
  }
 ],
 "metadata": {
  "kernelspec": {
   "display_name": "Python 3",
   "language": "python",
   "name": "python3"
  },
  "language_info": {
   "codemirror_mode": {
    "name": "ipython",
    "version": 2
   },
   "file_extension": ".py",
   "mimetype": "text/x-python",
   "name": "python",
   "nbconvert_exporter": "python",
   "pygments_lexer": "ipython2",
   "version": "2.7.6"
  }
 },
 "nbformat": 4,
 "nbformat_minor": 0
}